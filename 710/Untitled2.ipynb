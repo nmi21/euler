{
 "cells": [
  {
   "cell_type": "markdown",
   "id": "aa3f9292",
   "metadata": {},
   "source": [
    "The big thing to try here is to break down the problem into two different types of problems:\n",
    "- when the number is even (e.g. t(6))\n",
    "- when the number is odd (e.g. t(7))\n",
    "\n",
    "Since there must a palindrome the same elements must exist on both the left and right sides. Since they are the same elements, it is essentially saying 2 * {elements}, which will always result in an even numbered sum and even number of elements.\n",
    "\n",
    "If we want to have an odd 'n', then we will need to have an odd number of elements and the middle number *MUST* be odd. \n",
    "\n",
    "If we want to have an even 'n', then we can either have (1) an even number of elements where both sides are the same or (2) an odd number of elements where the middle element is an even number."
   ]
  },
  {
   "cell_type": "markdown",
   "id": "e31dd341",
   "metadata": {},
   "source": [
    "Rather than trying to generate all of the compositions for a number 'n', we can take the idea that it is a palindrome and the idea that it must be a mirror and get the total number of compositions for numbers that are larger than the sum of the composition!"
   ]
  },
  {
   "cell_type": "markdown",
   "id": "7bb37124",
   "metadata": {},
   "source": [
    "How do we get the compositions?\n",
    "\n",
    "We know how to calculate the total number of partitions, but how many different ways are there when order matters?"
   ]
  },
  {
   "cell_type": "code",
   "execution_count": 14,
   "id": "3bcca8ff",
   "metadata": {},
   "outputs": [],
   "source": [
    "import math\n",
    "import itertools\n",
    "import time"
   ]
  },
  {
   "cell_type": "code",
   "execution_count": 2,
   "id": "0baa6d9b",
   "metadata": {},
   "outputs": [],
   "source": [
    "def partitions(n):\n",
    "    # base case of recursion: zero is the sum of the empty list\n",
    "    if n == 0:\n",
    "        yield []\n",
    "        return\n",
    "\n",
    "    # modify partitions of n-1 to form partitions of n\n",
    "    for p in partitions(n-1):\n",
    "        yield [1] + p\n",
    "        if p and (len(p) < 2 or p[1] > p[0]):\n",
    "            yield [p[0] + 1] + p[1:]"
   ]
  },
  {
   "cell_type": "code",
   "execution_count": 3,
   "id": "e45739d0",
   "metadata": {},
   "outputs": [],
   "source": [
    "def num_compositions_longhand(num):\n",
    "    \n",
    "    \"\"\"\n",
    "    Get the number of compositions for a number, num\n",
    "    \n",
    "    This is the ways that an interger can be written as the sum of a sequence of positive integers\n",
    "    Order matters.\n",
    "    \"\"\"\n",
    "    \n",
    "    # generate all of the partitions\n",
    "    parts = [tuple(x) for x in partitions(num)]\n",
    "    \n",
    "    comps = set()\n",
    "    for part in parts:\n",
    "        perms = itertools.permutations(part)\n",
    "        for perm in perms:\n",
    "            comps.add(perm)\n",
    "            \n",
    "#     print(comps)\n",
    "    \n",
    "    return len(comps)"
   ]
  },
  {
   "cell_type": "code",
   "execution_count": 4,
   "id": "547d9837",
   "metadata": {},
   "outputs": [],
   "source": [
    "def num_compositions(num):\n",
    "    return 2 ** (num - 1)"
   ]
  },
  {
   "cell_type": "code",
   "execution_count": 5,
   "id": "cca4f6f3",
   "metadata": {
    "scrolled": true
   },
   "outputs": [
    {
     "name": "stdout",
     "output_type": "stream",
     "text": [
      "1. 1 vs. 2^0 == 1\n",
      "2. 2 vs. 2^1 == 2\n",
      "3. 4 vs. 2^2 == 4\n",
      "4. 8 vs. 2^3 == 8\n",
      "5. 16 vs. 2^4 == 16\n",
      "6. 32 vs. 2^5 == 32\n",
      "7. 64 vs. 2^6 == 64\n",
      "8. 128 vs. 2^7 == 128\n",
      "9. 256 vs. 2^8 == 256\n",
      "10. 512 vs. 2^9 == 512\n",
      "11. 1024 vs. 2^10 == 1024\n",
      "12. 2048 vs. 2^11 == 2048\n"
     ]
    }
   ],
   "source": [
    "for i in range(1, 12 + 1):\n",
    "    print(f\"{i}. {num_compositions(i)} vs. 2^{i-1} == {2**(i-1)}\")"
   ]
  },
  {
   "cell_type": "markdown",
   "id": "828da7c1",
   "metadata": {},
   "source": [
    "Interestingly, there are 2^(n-1) compositions for any number, n\n"
   ]
  },
  {
   "cell_type": "markdown",
   "id": "6f21deab",
   "metadata": {},
   "source": [
    "How many compositions contain a 2?\n",
    "\n",
    "let F(n) be the number of compositions of the number 'n' that contain a 2.\n",
    "\n",
    "We know that\n",
    "\n",
    "F(0) = 0\n",
    "\n",
    "F(1) = 0\n",
    "\n",
    "F(2) = 1 {(2)}\n",
    "\n",
    "F(3) = 2 {(1, 2), (2, 1)}\n",
    "\n",
    "F(4) = 4 {(1, 1, 2), (1, 2, 1), (2, 1, 1), (2, 2)}\n",
    "\n",
    "F(5) = 9 {(1, 1, 1, 2), (1, 1, 2, 1), (1, 2, 1, 1), (2, 1, 1, 1), (1, 2, 2), (2, 1, 2), (2, 2, 1), (2, 3), (3, 2)}"
   ]
  },
  {
   "cell_type": "markdown",
   "id": "75e69963",
   "metadata": {},
   "source": [
    "We need to determine the number of compositions with a 2 in them"
   ]
  },
  {
   "cell_type": "code",
   "execution_count": 6,
   "id": "f06aba5d",
   "metadata": {},
   "outputs": [],
   "source": [
    "def compositions_with_2_longhand(num):\n",
    "    \n",
    "    # generate all of the partitions\n",
    "    parts = [tuple(x) for x in partitions(num) if 2 in x]\n",
    "    \n",
    "    comps = set()\n",
    "    for part in parts:\n",
    "        perms = itertools.permutations(part)\n",
    "        for perm in perms:\n",
    "            comps.add(perm)\n",
    "            \n",
    "    return comps"
   ]
  },
  {
   "cell_type": "code",
   "execution_count": 13,
   "id": "0ff71b95",
   "metadata": {},
   "outputs": [
    {
     "name": "stdout",
     "output_type": "stream",
     "text": [
      "Total compositions with a '2':\n",
      "0. 0\n",
      "1. 0\n",
      "2. 1\n",
      "3. 2\n",
      "4. 4\n",
      "5. 9\n",
      "6. 20\n",
      "7. 43\n",
      "8. 91\n",
      "9. 191\n",
      "10. 398\n",
      "11. 824\n",
      "12. 1697\n"
     ]
    }
   ],
   "source": [
    "print(\"Total compositions with a '2':\")\n",
    "\n",
    "for i in range(12+1):\n",
    "    print(f\"{i}. {len(compositions_with_2_longhand(i))}\")"
   ]
  },
  {
   "cell_type": "markdown",
   "id": "141a0743",
   "metadata": {},
   "source": [
    "This is going to be way too slow, and so let's look at some of these compositions to be able to determine how to achieve it faster."
   ]
  },
  {
   "cell_type": "markdown",
   "id": "f854dfb5",
   "metadata": {},
   "source": [
    "How many compositions don't contain a 2?"
   ]
  },
  {
   "cell_type": "code",
   "execution_count": 8,
   "id": "49b3de88",
   "metadata": {},
   "outputs": [
    {
     "name": "stdout",
     "output_type": "stream",
     "text": [
      "0. Comps w/o a 2: 0.5\n",
      "1. Comps w/o a 2: 1\n",
      "2. Comps w/o a 2: 1\n",
      "3. Comps w/o a 2: 2\n",
      "4. Comps w/o a 2: 4\n",
      "5. Comps w/o a 2: 7\n",
      "6. Comps w/o a 2: 12\n",
      "7. Comps w/o a 2: 21\n",
      "8. Comps w/o a 2: 37\n",
      "9. Comps w/o a 2: 65\n",
      "10. Comps w/o a 2: 114\n",
      "11. Comps w/o a 2: 200\n",
      "12. Comps w/o a 2: 351\n"
     ]
    }
   ],
   "source": [
    "for i in range(12+1):\n",
    "    print(f\"{i}. Comps w/o a 2: {2**(i-1)- len(compositions_with_2_longhand(i))}\")"
   ]
  },
  {
   "cell_type": "code",
   "execution_count": 9,
   "id": "4b02ef12",
   "metadata": {},
   "outputs": [
    {
     "data": {
      "text/plain": [
       "[0, 1, 1, 2, 4, 7, 12, 21, 37, 65, 114, 200, 351]"
      ]
     },
     "execution_count": 9,
     "metadata": {},
     "output_type": "execute_result"
    }
   ],
   "source": [
    "c_no_2 = [0, 1, 1]\n",
    "\n",
    "for i in range(3, 12+1):\n",
    "    c_no_2.append(2**(i-1) - len(compositions_with_2_longhand(i)))\n",
    "    \n",
    "c_no_2"
   ]
  },
  {
   "cell_type": "code",
   "execution_count": 10,
   "id": "a11c66a2",
   "metadata": {},
   "outputs": [
    {
     "data": {
      "text/plain": [
       "[0, 1, 1, 2, 4, 8, 15, 27, 48, 85, 150, 264, 464, 815]"
      ]
     },
     "execution_count": 10,
     "metadata": {},
     "output_type": "execute_result"
    }
   ],
   "source": [
    "prev_sum = [0, 1]\n",
    "\n",
    "for i in range(2, len(c_no_2) + 1):\n",
    "    s = 0\n",
    "    for j in range(i):\n",
    "        s += c_no_2[j]\n",
    "    prev_sum.append(s)\n",
    "    \n",
    "prev_sum"
   ]
  },
  {
   "cell_type": "markdown",
   "id": "14247374",
   "metadata": {},
   "source": [
    "So it's relatively obvious that n < 2 means that there will be 0 2's in the composition. \n",
    "\n",
    "We also know that there will be fewer than 2^(n-1) compositions that contain a 2, because 2^(n-1) is the max number of compositions for any n."
   ]
  },
  {
   "cell_type": "markdown",
   "id": "bf3d7190",
   "metadata": {},
   "source": [
    "If we know the total number of compositions for any number n-2, then we can simply add a 2 to each of those compositions and get a composition that sums to n and contains a 2.\n",
    "\n",
    "num_compositions(n) = 2^(n-1)\n",
    "\n",
    "num_compositions(n-2) = 2^((n-2) - 1)\n",
    "\n",
    "thus,\n",
    "\n",
    "num_compositions(n-2) = 2^(n-3)\n",
    "\n",
    "NOTE: this only applies when n >= 3"
   ]
  },
  {
   "cell_type": "markdown",
   "id": "ccb33b5d",
   "metadata": {},
   "source": [
    "How many compositions that contain '2' exist with other digits?\n",
    "\n"
   ]
  },
  {
   "cell_type": "markdown",
   "id": "d3ccfba9",
   "metadata": {},
   "source": [
    "For each number, k, less than our target number, n. We would have already calculated the total number of compositions that contain a 2. That is given by F(k).\n",
    "\n",
    "Since they already contain a 2, we can add a number, j = n - k, to the front to let it become a composition for n that contains a 2."
   ]
  },
  {
   "cell_type": "markdown",
   "id": "3e983b9e",
   "metadata": {},
   "source": [
    "E.g. Let n = 5\n",
    "\n",
    "Our final answer should be 9.\n",
    "\n",
    "We know that there are 2^(n-3) compositions that just need a 2 appended to them:\n",
    "\n",
    "All of the compositions for n-2 (== 3): \n",
    "* (1, 1, 1) \n",
    "* (1, 2)\n",
    "* (2, 1)\n",
    "* (3)\n",
    "\n",
    "\n",
    "If we look at each of values for F(k) where k < n:\n",
    "* k = 2\n",
    "    * (2)\n",
    "* k = 3\n",
    "    * (1, 2)\n",
    "    * (2, 1)\n",
    "* k = 4\n",
    "    * (1, 1, 2)\n",
    "    * (1, 2, 1)\n",
    "    * (2, 1, 1)\n",
    "    * (2, 2)"
   ]
  },
  {
   "cell_type": "markdown",
   "id": "3bd404d1",
   "metadata": {},
   "source": [
    "So, if we add the requisite number to these compositions, we should get the full set of compositions:\n",
    "\n",
    "Let n = 5\n",
    "\n",
    "* compositions from n-2 with a 2 in front:\n",
    "    * (2, 1, 1, 1)\n",
    "    * (2, 1, 2)\n",
    "    * (2, 2, 1)\n",
    "    * (2, 3)\n",
    "* compositions from k (< n) and adding n-k to the front\n",
    "    * k = 2\n",
    "        * (3, 2)\n",
    "    * k = 3\n",
    "        * (2, 1, 2)\n",
    "        * (2, 2, 1)\n",
    "    * k = 4\n",
    "        * (1, 1, 1, 2)\n",
    "        * (1, 1, 2, 1)\n",
    "        * (1, 2, 1, 1)\n",
    "        * (1, 2, 2)"
   ]
  },
  {
   "cell_type": "markdown",
   "id": "22bdb9de",
   "metadata": {},
   "source": [
    "Notice that k = 3 duplicates results from n-2, and so we should eliminate F(3) to give us the 9 total compositions containing a 2:\n",
    "\n",
    "* (2, 1, 1, 1)\n",
    "* (2, 1, 2)\n",
    "* (2, 2, 1)\n",
    "* (2, 3)\n",
    "* (3, 2)\n",
    "* (1, 1, 1, 2)\n",
    "* (1, 1, 2, 1)\n",
    "* (1, 2, 1, 1)\n",
    "* (1, 2, 2)"
   ]
  },
  {
   "cell_type": "markdown",
   "id": "4ba6043a",
   "metadata": {},
   "source": [
    "Let's try for n = 6:\n",
    "\n",
    "* compositions from n = 4 w/ a 2 in front:\n",
    "    * (2, 1, 1, 1, 1)\n",
    "    * (2, 1, 1, 2)\n",
    "    * (2, 1, 2, 1)\n",
    "    * (2, 2, 1, 1)\n",
    "    * (2, 1, 3)\n",
    "    * (2, 3, 1)\n",
    "    * (2, 2, 2)\n",
    "    * (2, 4)\n",
    "    \n",
    "* compositions from F(k) when k < n w/ a k in front:\n",
    "    * k = 2\n",
    "        * (4, 2)\n",
    "    * k = 3\n",
    "        * (3, 1, 2)\n",
    "        * (3, 2, 1)\n",
    "    * k = 4\n",
    "        * (2, 1, 1, 2)\n",
    "        * (2, 1, 2, 1)\n",
    "        * (2, 2, 1, 1)\n",
    "        * (2, 2, 2)\n",
    "    * k = 5\n",
    "        * (1, 2, 1, 1, 1)\n",
    "        * (1, 2, 1, 2)\n",
    "        * (1, 2, 2, 1)\n",
    "        * (1, 2, 3)\n",
    "        * (1, 3, 2)\n",
    "        * (1, 1, 1, 1, 2)\n",
    "        * (1, 1, 1, 2, 1)\n",
    "        * (1, 1, 2, 1, 1)\n",
    "        * (1, 1, 2, 2)\n",
    "        \n",
    "Again, we will have to eliminate the case when k = n-2 because those are already covered in the earlier compositions."
   ]
  },
  {
   "cell_type": "markdown",
   "id": "74e7b999",
   "metadata": {},
   "source": [
    "Let's code it up!\n",
    "\n",
    "Note we don't actually have to write out the compositions. We know that it is simply:\n",
    "\n",
    "F(n) = sum of:\n",
    "* total compositions for n - 2\n",
    "* sum of compositions of F(k) for k < n\n",
    "* -(F(n-2))"
   ]
  },
  {
   "cell_type": "code",
   "execution_count": 23,
   "id": "ef5f984a",
   "metadata": {},
   "outputs": [
    {
     "name": "stdout",
     "output_type": "stream",
     "text": [
      "0\n",
      "0\n",
      "1\n",
      "2\n",
      "4\n",
      "9\n",
      "20\n",
      "43\n",
      "91\n",
      "191\n",
      "398\n",
      "824\n",
      "1697\n",
      "3480\n",
      "7111\n",
      "14487\n",
      "29439\n",
      "59694\n",
      "120820\n",
      "244153\n",
      "492716\n",
      "993171\n",
      "1999923\n",
      "4023679\n",
      "8089182\n",
      "16251760\n",
      "32632321\n",
      "65490672\n",
      "131377999\n",
      "263452079\n",
      "528125695\n",
      "1058395038\n",
      "2120551916\n",
      "4247705401\n",
      "8506995748\n",
      "17034321659\n",
      "34104320267\n",
      "68271249215\n",
      "136652369006\n",
      "273497547432\n",
      "\n",
      "0.0020334720611572266 sec\n"
     ]
    }
   ],
   "source": [
    "t0 = time.time()\n",
    "\n",
    "# initialize values for F(n)\n",
    "F = [0, 0, 1]\n",
    "\n",
    "# choose a number that we can see how quickly it can calculate relatively large numbers\n",
    "for n in range(3, 40):\n",
    "    \n",
    "    # get the total compositions for n-2\n",
    "    F_n = 2**(n-3)\n",
    "    \n",
    "    # add the sum of all values for k when k < n\n",
    "    F_n += sum(F)\n",
    "    \n",
    "    # remove duplicates by subtracting F(n-2)\n",
    "    F_n -= F[-2]\n",
    "    \n",
    "    F.append(F_n)\n",
    "    \n",
    "for i in F:\n",
    "    print(i)\n",
    "    \n",
    "print()\n",
    "print(f\"{time.time() - t0} sec\")"
   ]
  },
  {
   "cell_type": "markdown",
   "id": "42b223f9",
   "metadata": {},
   "source": [
    "So now if we want a number, we can quite easily generate the number of sides that would form a palindrome.\n",
    "\n",
    "We just have to construct palindromes now."
   ]
  },
  {
   "cell_type": "markdown",
   "id": "f5174ad4",
   "metadata": {},
   "source": [
    "Let x be a value for which the palindrome sums in our equation for t(2n):\n",
    "\n",
    "\n",
    "If 2n is even, then there can be either\n",
    "* an odd number of elements in its set, with a center element that is even\n",
    "* an even number of elements in its set (thus no center)\n",
    "\n",
    "If 2n is odd, then there must be\n",
    "* an odd number of elements with a center element that is odd"
   ]
  },
  {
   "cell_type": "markdown",
   "id": "c252e894",
   "metadata": {},
   "source": [
    "Let's first focus on the evens."
   ]
  },
  {
   "cell_type": "markdown",
   "id": "eb3ed430",
   "metadata": {},
   "source": [
    "If there are an even number of elements in the side of the palindrome, then there are F(n) choices to create the palindrome.\n",
    "\n",
    "e.g. if we are looking for t(2x) = t(6), we look to x = 3\n",
    "\n",
    "F(3) = 2\n",
    "\n",
    "* (1, 2)\n",
    "* (2, 1)\n",
    "\n",
    "So there will then be 2x twopals that have even quantities of elements:\n",
    "\n",
    "* (1, 2) + (2, 1) = (1, 2, 2, 1)\n",
    "* (2, 1) + (1, 2) = (2, 1, 1, 2)\n",
    "\n",
    "$\\therefore\\$ F(x) where x = n/2"
   ]
  },
  {
   "cell_type": "markdown",
   "id": "a55d8120",
   "metadata": {},
   "source": [
    "If there are an odd number of elements, then the situation is slightly more complicated.\n",
    "\n",
    "if we call one side of the palindrome set, p, with number of elements in it 'q'. Then the following must be true:\n",
    "\n",
    "* the total number of elements in the twopal will be 2p + 1\n",
    "* the center element must be even\n",
    "    * 2p will always be even, and since we have only 1 additional element to add, it must also be even to end in an even number"
   ]
  },
  {
   "cell_type": "markdown",
   "id": "7e495f8d",
   "metadata": {},
   "source": [
    "Since 2 is a special case here, we should consider '2' different than other even numbers.\n",
    "\n",
    "If '2' is a center, then it already is a twopal and we don't care what the numbers are.\n",
    "\n",
    "So, given that our target number is some value 'n', and the center is 2, then 2*sum(p) = n - 2\n",
    "\n",
    "So we can check F(k) when k = x - 1 (x = n/2)\n",
    "\n",
    "For any k, there are 2^(k-1) total compositions for that number, and so if k = x - 1\n",
    "\n",
    "Then there are 2^((x-1) - 1) = 2^(x-2) possible twopals where 2 is the middle element.\n",
    "\n",
    "$\\therefore\\$ 2^(x-2) where x = n/2"
   ]
  },
  {
   "cell_type": "markdown",
   "id": "87165bce",
   "metadata": {},
   "source": [
    "In other situations, the center will have an even value between 4 and n.\n",
    "\n",
    "We now care whether the set p has a '2' in it because we are not guaranteed to have one in the full set otherwise.\n",
    "\n",
    "Thus, we should be using values for F(k).\n",
    "\n",
    "We need to start at 4, and we need to go until x, using only even values\n",
    "\n",
    "$\\therefore\\$\n",
    "\n",
    "\\begin{equation}\n",
    "    \\sum^{x}_{j=2} F(2*j)\n",
    "\\end{equation}"
   ]
  },
  {
   "cell_type": "markdown",
   "id": "dc052371",
   "metadata": {},
   "source": [
    "Adding all of those together, we should get the final summation.\n",
    "\n",
    "if n is even, then\n",
    "\\begin{equation}\n",
    "    t(n) = 2^{\\frac{n}{2}-2} + f(n/2) + \\sum^{n/2}_{k=4}f(k)\n",
    "\\end{equation}"
   ]
  },
  {
   "cell_type": "markdown",
   "id": "d3676115",
   "metadata": {},
   "source": [
    "Let's try it for n = 6:\n",
    "\n",
    "t(6) = 2^(n/2 - 2) + f(n/2) + sum^{n/2}_{j=2}(f(2*j))\n",
    "\n",
    "t(6) = 2^(3-2) + f(3) + sum()\n",
    "\n",
    "t(6) = 2 + 2 = 4"
   ]
  },
  {
   "cell_type": "markdown",
   "id": "1b9387f9",
   "metadata": {},
   "source": [
    "Now let's deal with odds...\n",
    "\n",
    "There must be a middle element, and that element must be odd.\n",
    "\n",
    "Thus the sides must have a '2' in it. So we should use f(k).\n",
    "\n",
    "if we let n = 2*k + j, then for any value of j <= n, there must be f(k) possible twopals.\n",
    "\n",
    "$\\therefore\\$\n",
    "\n",
    "\\begin{equation}\n",
    "    \\sum^{\\frac{n-1}{2}}_{k=0} f(k)\n",
    "\\end{equation}"
   ]
  },
  {
   "cell_type": "code",
   "execution_count": 5,
   "id": "e0e62222",
   "metadata": {},
   "outputs": [
    {
     "data": {
      "text/plain": [
       "4"
      ]
     },
     "execution_count": 5,
     "metadata": {},
     "output_type": "execute_result"
    }
   ],
   "source": [
    "f = [0, 0, 1]\n",
    "\n",
    "k = 1\n",
    "\n",
    "# deal with evens\n",
    "n = 2*k\n",
    "\n",
    "t_n = 2 ** (n-2)\n",
    "t_n -= f[n-1]\n",
    "sub_sum = 0\n",
    "for k in range(n+1):\n",
    "    sub_sum += f[n]\n",
    "t_n += sub_sum"
   ]
  }
 ],
 "metadata": {
  "kernelspec": {
   "display_name": "Python 3 (ipykernel)",
   "language": "python",
   "name": "python3"
  },
  "language_info": {
   "codemirror_mode": {
    "name": "ipython",
    "version": 3
   },
   "file_extension": ".py",
   "mimetype": "text/x-python",
   "name": "python",
   "nbconvert_exporter": "python",
   "pygments_lexer": "ipython3",
   "version": "3.11.5"
  }
 },
 "nbformat": 4,
 "nbformat_minor": 5
}
