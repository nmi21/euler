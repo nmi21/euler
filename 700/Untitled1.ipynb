{
 "cells": [
  {
   "cell_type": "code",
   "execution_count": 10,
   "id": "e80901e3",
   "metadata": {},
   "outputs": [],
   "source": [
    "import math\n",
    "import time"
   ]
  },
  {
   "cell_type": "code",
   "execution_count": 11,
   "id": "4251997d",
   "metadata": {},
   "outputs": [],
   "source": [
    "coin1 = 1_504_170_715_041_707\n",
    "m = 4_503_599_627_370_517"
   ]
  },
  {
   "cell_type": "code",
   "execution_count": 40,
   "id": "18fba9d2",
   "metadata": {},
   "outputs": [
    {
     "name": "stdout",
     "output_type": "stream",
     "text": [
      "1 1 1504170715041707 0.00023984909057617188\n",
      "2 3 8912517754604 0.0009081363677978516\n",
      "3 506 2044785486369 0.001577615737915039\n",
      "4 2527 1311409677241 0.004294157028198242\n",
      "5 4548 578033868113 0.008086919784545898\n",
      "6 11117 422691927098 0.013725757598876953\n",
      "7 17686 267349986083 0.018628835678100586\n",
      "8 24255 112008045068 0.022675275802612305\n",
      "9 55079 68674149121 0.03533172607421875\n",
      "10 85903 25340253174 0.051531314849853516\n",
      "11 202630 7346610401 0.0845329761505127\n",
      "12 724617 4046188430 0.20383358001708984\n",
      "13 1246604 745766459 0.32169032096862793\n",
      "14 6755007 428410324 1.5639033317565918\n",
      "15 12263410 111054189 2.849212646484375\n",
      "16 42298633 15806432 9.723512172698975\n"
     ]
    },
    {
     "ename": "KeyboardInterrupt",
     "evalue": "",
     "output_type": "error",
     "traceback": [
      "\u001b[0;31m---------------------------------------------------------------------------\u001b[0m",
      "\u001b[0;31mKeyboardInterrupt\u001b[0m                         Traceback (most recent call last)",
      "Cell \u001b[0;32mIn[40], line 9\u001b[0m\n\u001b[1;32m      7\u001b[0m temp \u001b[38;5;241m=\u001b[39m coin1\n\u001b[1;32m      8\u001b[0m n \u001b[38;5;241m=\u001b[39m \u001b[38;5;241m2\u001b[39m\n\u001b[0;32m----> 9\u001b[0m \u001b[38;5;28;01mwhile\u001b[39;00m temp \u001b[38;5;241m>\u001b[39m \u001b[38;5;241m1\u001b[39m:\n\u001b[1;32m     10\u001b[0m     temp \u001b[38;5;241m+\u001b[39m\u001b[38;5;241m=\u001b[39m coin1\n\u001b[1;32m     11\u001b[0m     temp \u001b[38;5;241m%\u001b[39m\u001b[38;5;241m=\u001b[39m m\n",
      "\u001b[0;31mKeyboardInterrupt\u001b[0m: "
     ]
    }
   ],
   "source": [
    "t = time.time()\n",
    "\n",
    "coins = [coin1]\n",
    "\n",
    "print(1, 1, coin1, time.time() - t)\n",
    "\n",
    "temp = coin1\n",
    "n = 2\n",
    "while temp > 1:\n",
    "    temp += coin1\n",
    "    temp %= m\n",
    "    if temp < coins[-1]:\n",
    "        coins.append(temp)\n",
    "        print(len(coins), n, coins[-1], time.time() - t)\n",
    "    n += 1"
   ]
  },
  {
   "cell_type": "code",
   "execution_count": 35,
   "id": "97b55f82",
   "metadata": {},
   "outputs": [],
   "source": [
    "def mod_mult_inv(a, m):\n",
    "    \"\"\"\n",
    "    Returns the modular multiplicative inverse of a % m\n",
    "    That is, there is a value, x, such that ax % m == 1\n",
    "    \"\"\"\n",
    "    \n",
    "    # I know that you can use the native pow(a, b, mod) function\n",
    "    # and set b = -1 to find the modular multiplicative inverse\n",
    "    # but this is slightly more fun\n",
    "    \n",
    "    # use Extended Euclidean algorithm\n",
    "    # ax + my = gcd(a, m)\n",
    "    z = math.gcd(a, m)\n",
    "    \n",
    "    old_r, r = a, m\n",
    "    old_s, s = 1, 0\n",
    "    \n",
    "    while r != 0:\n",
    "        q = old_r // r\n",
    "        old_r, r = r, old_r - q*r\n",
    "        old_s, s = s, old_s - q*s\n",
    "        \n",
    "    \n",
    "    x = old_s + m\n",
    "    x %= m\n",
    "    \n",
    "    return x "
   ]
  },
  {
   "cell_type": "code",
   "execution_count": 28,
   "id": "407c9ebc",
   "metadata": {},
   "outputs": [
    {
     "name": "stdout",
     "output_type": "stream",
     "text": [
      "4 8.249282836914062e-05\n"
     ]
    }
   ],
   "source": [
    "t = time.time()\n",
    "print(mod_mult_inv(3, 11), time.time() - t)"
   ]
  },
  {
   "cell_type": "code",
   "execution_count": 27,
   "id": "d037dc19",
   "metadata": {},
   "outputs": [
    {
     "name": "stdout",
     "output_type": "stream",
     "text": [
      "4 6.818771362304688e-05\n"
     ]
    }
   ],
   "source": [
    "t = time.time()\n",
    "print(pow(3, -1, 11), time.time() - t)"
   ]
  },
  {
   "cell_type": "code",
   "execution_count": 36,
   "id": "d2e08adb",
   "metadata": {},
   "outputs": [
    {
     "data": {
      "text/plain": [
       "3451657199285664"
      ]
     },
     "execution_count": 36,
     "metadata": {},
     "output_type": "execute_result"
    }
   ],
   "source": [
    "mod_mult_inv(coin1, m)"
   ]
  },
  {
   "cell_type": "code",
   "execution_count": 39,
   "id": "d7374310",
   "metadata": {},
   "outputs": [
    {
     "data": {
      "text/plain": [
       "3451657199285664"
      ]
     },
     "execution_count": 39,
     "metadata": {},
     "output_type": "execute_result"
    }
   ],
   "source": [
    "inv = pow(coin1, -1, m)\n",
    "inv"
   ]
  },
  {
   "cell_type": "markdown",
   "id": "17e99b11",
   "metadata": {},
   "source": [
    "Ok let's talk modular multiplicative inverse.\n",
    "\n",
    "So essentially there is a value of x such that ax % m = 1.\n",
    "\n",
    "There is a fun implication to this and modular arithmetic in general, which is to say that we can multiply both sides by a constant and expect it to hold true.\n",
    "\n",
    "i.e. k * a * x % m = k * 1\n",
    "\n",
    "k * a * x % m = k"
   ]
  },
  {
   "cell_type": "markdown",
   "id": "bd09f006",
   "metadata": {},
   "source": [
    "e.g.\n",
    "\n",
    "a = 3\n",
    "m = 11\n",
    "\n",
    "thus, x = 4:\n",
    "\n",
    "3 * 4 % 11 = 1\n",
    "\n",
    "let k = 2:\n",
    "\n",
    "k * a * x % m = k\n",
    "\n",
    "2 * 3 * 4 % 11 = 6 * 4 % 11 = 24 % 11 = 2"
   ]
  },
  {
   "cell_type": "markdown",
   "id": "5ad322c7",
   "metadata": {},
   "source": [
    "This allows us to check if the numbers are euler coins!\n",
    "\n",
    "We seem to run into a stop after 15,xxx,xxx where the coins don't show up as frequently."
   ]
  },
  {
   "cell_type": "code",
   "execution_count": 64,
   "id": "11507cd0",
   "metadata": {},
   "outputs": [
    {
     "name": "stdout",
     "output_type": "stream",
     "text": [
      "coin #2\n",
      "n=3\n",
      "coin = 8912517754604\n",
      "\n",
      "coin #3\n",
      "n=506\n",
      "coin = 2044785486369\n",
      "\n",
      "coin #4\n",
      "n=2527\n",
      "coin = 1311409677241\n",
      "\n",
      "coin #5\n",
      "n=4548\n",
      "coin = 578033868113\n",
      "\n",
      "coin #6\n",
      "n=11117\n",
      "coin = 422691927098\n",
      "\n",
      "coin #7\n",
      "n=17686\n",
      "coin = 267349986083\n",
      "\n",
      "coin #8\n",
      "n=24255\n",
      "coin = 112008045068\n",
      "\n",
      "coin #9\n",
      "n=55079\n",
      "coin = 68674149121\n",
      "\n",
      "coin #10\n",
      "n=85903\n",
      "coin = 25340253174\n",
      "\n",
      "coin #11\n",
      "n=202630\n",
      "coin = 7346610401\n",
      "\n",
      "coin #12\n",
      "n=724617\n",
      "coin = 4046188430\n",
      "\n",
      "coin #13\n",
      "n=1246604\n",
      "coin = 745766459\n",
      "\n",
      "coin #14\n",
      "n=6755007\n",
      "coin = 428410324\n",
      "\n",
      "coin #15\n",
      "n=12263410\n",
      "coin = 111054189\n",
      "\n",
      "coin #16\n",
      "n=42298633\n",
      "coin = 15806432\n",
      "\n"
     ]
    }
   ],
   "source": [
    "coins = [coin1]\n",
    "\n",
    "temp = coin1\n",
    "n = 2\n",
    "while len(coins) < 16:\n",
    "    temp += coin1\n",
    "    temp %= m\n",
    "    if temp < coins[-1]:\n",
    "        coins.append(temp)\n",
    "        print(f\"coin #{len(coins)}\")\n",
    "        print(f\"{n=}\")\n",
    "        print(f\"coin = {coins[-1]}\")\n",
    "        print()\n",
    "    n += 1\n",
    "    \n"
   ]
  },
  {
   "cell_type": "code",
   "execution_count": 57,
   "id": "61ef8e2e",
   "metadata": {},
   "outputs": [
    {
     "data": {
      "text/plain": [
       "3451657199285664"
      ]
     },
     "execution_count": 57,
     "metadata": {},
     "output_type": "execute_result"
    }
   ],
   "source": [
    "inv = mod_mult_inv(coin1, m)\n",
    "inv"
   ]
  },
  {
   "cell_type": "code",
   "execution_count": 58,
   "id": "080953c4",
   "metadata": {},
   "outputs": [
    {
     "name": "stdout",
     "output_type": "stream",
     "text": [
      "2 2399714771200811\n",
      "3 1347772343115958\n",
      "4 295829915031105\n",
      "17 131377232039567\n",
      "47 98301781087596\n",
      "77 65226330135625\n",
      "107 32150879183654\n",
      "244 31226307415337\n",
      "381 30301735647020\n",
      "518 29377163878703\n",
      "655 28452592110386\n",
      "792 27528020342069\n",
      "929 26603448573752\n",
      "1066 25678876805435\n",
      "1203 24754305037118\n",
      "1340 23829733268801\n",
      "1477 22905161500484\n",
      "1614 21980589732167\n",
      "1751 21056017963850\n",
      "1888 20131446195533\n",
      "2025 19206874427216\n",
      "2162 18282302658899\n",
      "2299 17357730890582\n",
      "2436 16433159122265\n",
      "2573 15508587353948\n",
      "2710 14584015585631\n",
      "2847 13659443817314\n",
      "2984 12734872048997\n",
      "3121 11810300280680\n",
      "3258 10885728512363\n",
      "3395 9961156744046\n",
      "3532 9036584975729\n",
      "3669 8112013207412\n",
      "3806 7187441439095\n",
      "3943 6262869670778\n",
      "4080 5338297902461\n",
      "4217 4413726134144\n",
      "4354 3489154365827\n",
      "4491 2564582597510\n",
      "4628 1640010829193\n",
      "4765 715439060876\n",
      "9667 506306353435\n",
      "14569 297173645994\n",
      "19471 88040938553\n",
      "63315 54990108218\n",
      "107159 21939277883\n",
      "258162 10827725431\n",
      "667327 10543898410\n",
      "1076492 10260071389\n",
      "1485657 9976244368\n",
      "1894822 9692417347\n",
      "2303987 9408590326\n",
      "2713152 9124763305\n",
      "3122317 8840936284\n",
      "3531482 8557109263\n",
      "3940647 8273282242\n",
      "4349812 7989455221\n",
      "4758977 7705628200\n",
      "5168142 7421801179\n",
      "5577307 7137974158\n",
      "5986472 6854147137\n",
      "6395637 6570320116\n",
      "6804802 6286493095\n",
      "7213967 6002666074\n",
      "7623132 5718839053\n",
      "8032297 5435012032\n",
      "8441462 5151185011\n",
      "8850627 4867357990\n",
      "9259792 4583530969\n",
      "9668957 4299703948\n",
      "10078122 4015876927\n",
      "10487287 3732049906\n",
      "10896452 3448222885\n",
      "11305617 3164395864\n",
      "11714782 2880568843\n",
      "12123947 2596741822\n",
      "12533112 2312914801\n",
      "12942277 2029087780\n",
      "13351442 1745260759\n",
      "13760607 1461433738\n",
      "14169772 1177606717\n",
      "14578937 893779696\n",
      "14988102 609952675\n",
      "15397267 326125654\n",
      "\n",
      "3.283907890319824\n"
     ]
    }
   ],
   "source": [
    "# the available euler coin must be between 1 and 15E6\n",
    "\n",
    "t = time.time()\n",
    "\n",
    "coins.append(1)\n",
    "\n",
    "z = inv\n",
    "for i in range(2, 15806432):\n",
    "    temp = inv * i % m\n",
    "    if temp < z:\n",
    "        coins.append(i)\n",
    "        z = temp\n",
    "        print(i, temp)\n",
    "        \n",
    "print()\n",
    "print(time.time() - t)"
   ]
  },
  {
   "cell_type": "code",
   "execution_count": 60,
   "id": "ea1d0639",
   "metadata": {},
   "outputs": [
    {
     "data": {
      "text/plain": [
       "[1504170715041707,\n",
       " 8912517754604,\n",
       " 2044785486369,\n",
       " 1311409677241,\n",
       " 578033868113,\n",
       " 422691927098,\n",
       " 267349986083,\n",
       " 112008045068,\n",
       " 68674149121,\n",
       " 25340253174,\n",
       " 7346610401,\n",
       " 4046188430,\n",
       " 745766459,\n",
       " 428410324,\n",
       " 111054189,\n",
       " 15806432,\n",
       " 15397267,\n",
       " 14988102,\n",
       " 14578937,\n",
       " 14169772,\n",
       " 13760607,\n",
       " 13351442,\n",
       " 12942277,\n",
       " 12533112,\n",
       " 12123947,\n",
       " 11714782,\n",
       " 11305617,\n",
       " 10896452,\n",
       " 10487287,\n",
       " 10078122,\n",
       " 9668957,\n",
       " 9259792,\n",
       " 8850627,\n",
       " 8441462,\n",
       " 8032297,\n",
       " 7623132,\n",
       " 7213967,\n",
       " 6804802,\n",
       " 6395637,\n",
       " 5986472,\n",
       " 5577307,\n",
       " 5168142,\n",
       " 4758977,\n",
       " 4349812,\n",
       " 3940647,\n",
       " 3531482,\n",
       " 3122317,\n",
       " 2713152,\n",
       " 2303987,\n",
       " 1894822,\n",
       " 1485657,\n",
       " 1076492,\n",
       " 667327,\n",
       " 258162,\n",
       " 107159,\n",
       " 63315,\n",
       " 19471,\n",
       " 14569,\n",
       " 9667,\n",
       " 4765,\n",
       " 4628,\n",
       " 4491,\n",
       " 4354,\n",
       " 4217,\n",
       " 4080,\n",
       " 3943,\n",
       " 3806,\n",
       " 3669,\n",
       " 3532,\n",
       " 3395,\n",
       " 3258,\n",
       " 3121,\n",
       " 2984,\n",
       " 2847,\n",
       " 2710,\n",
       " 2573,\n",
       " 2436,\n",
       " 2299,\n",
       " 2162,\n",
       " 2025,\n",
       " 1888,\n",
       " 1751,\n",
       " 1614,\n",
       " 1477,\n",
       " 1340,\n",
       " 1203,\n",
       " 1066,\n",
       " 929,\n",
       " 792,\n",
       " 655,\n",
       " 518,\n",
       " 381,\n",
       " 244,\n",
       " 107,\n",
       " 77,\n",
       " 47,\n",
       " 17,\n",
       " 4,\n",
       " 3,\n",
       " 2,\n",
       " 1]"
      ]
     },
     "execution_count": 60,
     "metadata": {},
     "output_type": "execute_result"
    }
   ],
   "source": [
    "coins.sort(reverse=True)\n",
    "coins"
   ]
  },
  {
   "cell_type": "code",
   "execution_count": 61,
   "id": "e21e3208",
   "metadata": {},
   "outputs": [
    {
     "data": {
      "text/plain": [
       "1517926517777556"
      ]
     },
     "execution_count": 61,
     "metadata": {},
     "output_type": "execute_result"
    }
   ],
   "source": [
    "sum(coins)"
   ]
  }
 ],
 "metadata": {
  "kernelspec": {
   "display_name": "Python 3 (ipykernel)",
   "language": "python",
   "name": "python3"
  },
  "language_info": {
   "codemirror_mode": {
    "name": "ipython",
    "version": 3
   },
   "file_extension": ".py",
   "mimetype": "text/x-python",
   "name": "python",
   "nbconvert_exporter": "python",
   "pygments_lexer": "ipython3",
   "version": "3.11.5"
  }
 },
 "nbformat": 4,
 "nbformat_minor": 5
}
