{
 "cells": [
  {
   "cell_type": "code",
   "execution_count": null,
   "id": "718f9f48-e7c2-4d1c-955b-76c30a1229ec",
   "metadata": {},
   "outputs": [],
   "source": [
    "!pip install matplotlib"
   ]
  },
  {
   "cell_type": "code",
   "execution_count": null,
   "id": "7266ac64-4b28-4ff6-90cb-696f16d779da",
   "metadata": {},
   "outputs": [],
   "source": [
    "!pip install numpy"
   ]
  },
  {
   "cell_type": "code",
   "execution_count": 1,
   "id": "5fb5ab66-09c8-4416-b20f-ef88a2453ae3",
   "metadata": {},
   "outputs": [],
   "source": [
    "import math\n",
    "import numpy as np\n",
    "import matplotlib.pyplot as plt\n",
    "\n",
    "%matplotlib inline"
   ]
  },
  {
   "cell_type": "code",
   "execution_count": 2,
   "id": "0bd63a68-f745-489f-bdf9-a5dcdf3e9ccc",
   "metadata": {},
   "outputs": [],
   "source": [
    "def vol_ellipsoid(a, b, c):\n",
    "    return (4/3) * math.pi * a * b * c"
   ]
  },
  {
   "cell_type": "code",
   "execution_count": 32,
   "id": "9a568171-85f2-40e7-be1b-c7c2de79eaf6",
   "metadata": {},
   "outputs": [
    {
     "name": "stdout",
     "output_type": "stream",
     "text": [
      "vol_ellipsoid(1, 1, 1)=4.1887902047863905\n",
      "res correct? True\n"
     ]
    }
   ],
   "source": [
    "print(f\"{vol_ellipsoid(1, 1, 1)=}\")\n",
    "\n",
    "res = (vol_ellipsoid(1, 1, 1) == np.pi * 4/3)\n",
    "\n",
    "print(f\"res correct? {res}\")"
   ]
  },
  {
   "cell_type": "code",
   "execution_count": 125,
   "id": "95a87e13-e73a-4acd-b84d-dc57726ccce3",
   "metadata": {},
   "outputs": [],
   "source": [
    "num_slices = 152000\n",
    "\n",
    "a = 3\n",
    "b = 1\n",
    "\n",
    "t = np.linspace(0, np.pi/2, num_slices)"
   ]
  },
  {
   "cell_type": "code",
   "execution_count": 126,
   "id": "31f94c9b-78c1-4375-98a4-84656d3b590e",
   "metadata": {},
   "outputs": [],
   "source": [
    "ex = a * np.cos(t)\n",
    "ez = b * np.sin(t)\n",
    "\n",
    "nx = b * np.cos(t)\n",
    "nz = a * np.sin(t)\n",
    "\n",
    "l = np.sqrt(nx**2 + nz**2)\n",
    "\n",
    "nx_t = nx/l\n",
    "nz_t = nz/l\n",
    "\n",
    "oex = ex + nx_t\n",
    "oez = ez + nz_t\n",
    "\n",
    "# # only plot 100 elements to make it faster; it will be plenty of resolution\n",
    "# div = num_slices // 100\n",
    "# p_ex = ex[::div]\n",
    "# p_ez = ez[::div]\n",
    "# p_oex = oex[::div]\n",
    "# p_oez = oez[::div]\n",
    "\n",
    "# plt.plot(p_ex, p_ez)\n",
    "# plt.plot(oex, oez)\n",
    "# plt.axis('equal')\n",
    "# plt.xlabel('x')\n",
    "# plt.ylabel('z')"
   ]
  },
  {
   "cell_type": "code",
   "execution_count": 127,
   "id": "8878f325-8f53-44ab-9f92-79ebf67d7ba2",
   "metadata": {},
   "outputs": [],
   "source": [
    "# create all of the x's as heights for disks\n",
    "z_height = np.diff(oez)\n",
    "\n",
    "# create all of the z's as radii, remove last element to have it be \n",
    "x_rad = oex[:-1]\n",
    "\n",
    "if num_slices < 100:\n",
    "    for i in range(len(z_height)):\n",
    "        print(f\"{z_height[i]=}, {x_rad[i]=}\")"
   ]
  },
  {
   "cell_type": "code",
   "execution_count": 128,
   "id": "e81df6bf-ead0-4781-aa3d-97136cc56ab0",
   "metadata": {},
   "outputs": [
    {
     "name": "stdout",
     "output_type": "stream",
     "text": [
      "Same length? True\n"
     ]
    },
    {
     "data": {
      "text/plain": [
       "np.float64(70.53927184938553)"
      ]
     },
     "execution_count": 128,
     "metadata": {},
     "output_type": "execute_result"
    }
   ],
   "source": [
    "# check if same length\n",
    "print(f\"Same length? {len(z_height) == len(x_rad)}\")\n",
    "\n",
    "# get the volume of each disk using pi * r^2 * h\n",
    "disc_vols = np.pi * (x_rad**2) * z_height\n",
    "\n",
    "vol_candy = np.sum(disc_vols)\n",
    "\n",
    "# print(f\"{z_height=}\")\n",
    "\n",
    "vol_candy"
   ]
  },
  {
   "cell_type": "code",
   "execution_count": 129,
   "id": "031a7de0-99c8-453d-8d9b-2cec1fe861f1",
   "metadata": {},
   "outputs": [
    {
     "name": "stdout",
     "output_type": "stream",
     "text": [
      "Same length? True\n"
     ]
    },
    {
     "data": {
      "text/plain": [
       "np.float64(70.538540948666)"
      ]
     },
     "execution_count": 129,
     "metadata": {},
     "output_type": "execute_result"
    }
   ],
   "source": [
    "# go the other direction\n",
    "z_height_2 = -np.diff(oez[::-1])\n",
    "\n",
    "x_rad_2 = oex[::-1][:-1]\n",
    "\n",
    "print(f\"Same length? {len(z_height_2) == len(x_rad_2)}\")\n",
    "\n",
    "disc_vols_2 = np.pi * (x_rad_2**2) * z_height_2\n",
    "\n",
    "vol_candy_2 = np.sum(disc_vols_2)\n",
    "\n",
    "vol_candy_2"
   ]
  },
  {
   "cell_type": "code",
   "execution_count": 130,
   "id": "7ec5ec8f-04e0-4b5d-b74c-f64d2137cd1a",
   "metadata": {},
   "outputs": [
    {
     "data": {
      "text/plain": [
       "np.float64(0.0007309007195317463)"
      ]
     },
     "execution_count": 130,
     "metadata": {},
     "output_type": "execute_result"
    }
   ],
   "source": [
    "difference = vol_candy - vol_candy_2\n",
    "\n",
    "difference"
   ]
  },
  {
   "cell_type": "code",
   "execution_count": 131,
   "id": "6c11a1bd-ce39-4461-95b2-878f2b238966",
   "metadata": {},
   "outputs": [
    {
     "data": {
      "text/plain": [
       "37.69911184307752"
      ]
     },
     "execution_count": 131,
     "metadata": {},
     "output_type": "execute_result"
    }
   ],
   "source": [
    "vol_centre = vol_ellipsoid(a, a, b)\n",
    "\n",
    "vol_centre"
   ]
  },
  {
   "cell_type": "code",
   "execution_count": 132,
   "id": "26ccfe72-50ae-465e-957f-b020cf7fda90",
   "metadata": {},
   "outputs": [
    {
     "name": "stdout",
     "output_type": "stream",
     "text": [
      "103.37870095497401\n",
      "103.37870095\n"
     ]
    }
   ],
   "source": [
    "vol_choc = (vol_candy + vol_candy_2) - vol_centre\n",
    "\n",
    "print(vol_choc)\n",
    "\n",
    "print(np.round(vol_choc, 8))"
   ]
  },
  {
   "cell_type": "code",
   "execution_count": 133,
   "id": "0f12b0d2-018d-46c7-9bae-074207928733",
   "metadata": {},
   "outputs": [
    {
     "data": {
      "text/plain": [
       "np.float64(-1.0000007932831068e-08)"
      ]
     },
     "execution_count": 133,
     "metadata": {},
     "output_type": "execute_result"
    }
   ],
   "source": [
    "np.round(vol_choc, 8) - 103.37870096"
   ]
  },
  {
   "cell_type": "code",
   "execution_count": 21,
   "id": "1adee0c8-ed38-4f31-bb6c-2811148412f1",
   "metadata": {},
   "outputs": [],
   "source": [
    "def A(a):\n",
    "    x = a**2 - 1\n",
    "    return (2 * np.pi * a) * ((np.sqrt(x) * np.arcsinh(np.sqrt(x))) + a*(x)) / (x)"
   ]
  },
  {
   "cell_type": "code",
   "execution_count": 25,
   "id": "462d031e-c9ed-49b1-a11e-3ef649d6551e",
   "metadata": {},
   "outputs": [],
   "source": [
    "def l(a):\n",
    "    x = a**2 - 1\n",
    "    return (a**2 / np.sqrt(x)) * np.arcsin(np.sqrt(x) / a) + 1"
   ]
  },
  {
   "cell_type": "code",
   "execution_count": 27,
   "id": "37193940-0088-4e49-b60a-ce5c81ac9fc6",
   "metadata": {},
   "outputs": [
    {
     "data": {
      "text/plain": [
       "np.float64(60.35475634605033)"
      ]
     },
     "execution_count": 27,
     "metadata": {},
     "output_type": "execute_result"
    }
   ],
   "source": [
    "v = A(2) + 2*np.pi*l(2) + (4*np.pi/3)\n",
    "\n",
    "v"
   ]
  },
  {
   "cell_type": "code",
   "execution_count": 30,
   "id": "d34bb483-ee2f-4893-920e-2d979d59290d",
   "metadata": {},
   "outputs": [
    {
     "name": "stdout",
     "output_type": "stream",
     "text": [
      "103.37870096\n"
     ]
    }
   ],
   "source": [
    "v = A(3) + 2*np.pi*l(3) + (4*np.pi/3)\n",
    "\n",
    "print(np.round(v, 8))"
   ]
  },
  {
   "cell_type": "code",
   "execution_count": 31,
   "id": "a094bb09-259d-422a-9f26-f27f96048d71",
   "metadata": {},
   "outputs": [
    {
     "data": {
      "text/plain": [
       "np.float64(1.2505552149377763e-12)"
      ]
     },
     "execution_count": 31,
     "metadata": {},
     "output_type": "execute_result"
    }
   ],
   "source": [
    "v - vol_choc"
   ]
  }
 ],
 "metadata": {
  "kernelspec": {
   "display_name": "Python 3 (ipykernel)",
   "language": "python",
   "name": "python3"
  },
  "language_info": {
   "codemirror_mode": {
    "name": "ipython",
    "version": 3
   },
   "file_extension": ".py",
   "mimetype": "text/x-python",
   "name": "python",
   "nbconvert_exporter": "python",
   "pygments_lexer": "ipython3",
   "version": "3.12.3"
  }
 },
 "nbformat": 4,
 "nbformat_minor": 5
}
