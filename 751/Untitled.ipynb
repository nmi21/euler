{
 "cells": [
  {
   "cell_type": "markdown",
   "id": "6e6b9268",
   "metadata": {},
   "source": [
    "if the number is too high, the delta will be negative\n",
    "\n",
    "\n",
    "if number is too low, delta will be positive"
   ]
  },
  {
   "cell_type": "code",
   "execution_count": null,
   "id": "1a7fe3c6",
   "metadata": {},
   "outputs": [],
   "source": []
  },
  {
   "cell_type": "code",
   "execution_count": 8,
   "id": "6ac050ff",
   "metadata": {},
   "outputs": [
    {
     "name": "stdout",
     "output_type": "stream",
     "text": [
      "(2, 2.22356102)\n",
      "(2, 2.44712204)\n",
      "(2, 2.89424408)\n",
      "(3, 3.78848816)\n",
      "(5, 5.36546448)\n",
      "(6, 6.8273224)\n",
      "(10, 10.9639344)\n",
      "(19, 19.639343999999994)\n",
      "(31, 31.14753599999989)\n",
      "(35, 35.57361599999655)\n",
      "(55, 55.07655999987918)\n",
      "(59, 59.2107999933549)\n",
      "(71, 71.43719960793891)\n",
      "(102, 102.04117216366245)\n",
      "(106, 106.1995606935701)\n",
      "(127, 127.15343351843126)\n",
      "(146, 146.4860568407696)\n",
      "(216, 216.96429875236254)\n",
      "(424, 424.2885305103082)\n",
      "(546, 546.3369363706734)\n",
      "(729, 729.9672583876527)\n",
      "2.223561019313555597110210\n",
      "-6.864442347875865e-10\n"
     ]
    }
   ],
   "source": [
    "import math\n",
    "\n",
    "theta = 2.22356102\n",
    "\n",
    "b1 = theta\n",
    "a1 = math.floor(b1)\n",
    "\n",
    "def next_vals(b):\n",
    "    next_b = (math.floor(b)) * (b - math.floor(b) + 1)\n",
    "    next_a = math.floor(next_b)\n",
    "    return next_a, next_b\n",
    "\n",
    "my_list = [(a1, b1)]\n",
    "\n",
    "for i in range(20):\n",
    "    a, b = next_vals(my_list[-1][1])\n",
    "    my_list.append((a, b))\n",
    "    \n",
    "for l in my_list:\n",
    "    print(l)\n",
    "\n",
    "t = [str(x[0]) for x in my_list]\n",
    "t.insert(1, \".\")\n",
    "\n",
    "tau = \"\".join(t)\n",
    "tau = tau[:26]\n",
    "print(tau)\n",
    "\n",
    "delta = float(tau) - theta\n",
    "print(delta)"
   ]
  },
  {
   "cell_type": "markdown",
   "id": "80fa9f03",
   "metadata": {},
   "source": []
  }
 ],
 "metadata": {
  "kernelspec": {
   "display_name": "Python 3 (ipykernel)",
   "language": "python",
   "name": "python3"
  },
  "language_info": {
   "codemirror_mode": {
    "name": "ipython",
    "version": 3
   },
   "file_extension": ".py",
   "mimetype": "text/x-python",
   "name": "python",
   "nbconvert_exporter": "python",
   "pygments_lexer": "ipython3",
   "version": "3.11.5"
  }
 },
 "nbformat": 4,
 "nbformat_minor": 5
}
