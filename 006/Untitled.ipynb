{
 "cells": [
  {
   "cell_type": "markdown",
   "id": "5f5382dd",
   "metadata": {},
   "source": [
    "Nothing too special here. The numbers are relatively small.\n",
    "\n",
    "However, I'll use a method called \"list comprehension\". Feel free to research!"
   ]
  },
  {
   "cell_type": "code",
   "execution_count": 9,
   "id": "41b688b6",
   "metadata": {},
   "outputs": [
    {
     "data": {
      "text/plain": [
       "25164150"
      ]
     },
     "execution_count": 9,
     "metadata": {},
     "output_type": "execute_result"
    }
   ],
   "source": [
    "limit = 100\n",
    "\n",
    "sum_of_squares = sum([i**2 for i in range(1, limit + 1)])\n",
    "\n",
    "square_of_sum = sum([i for i in range(1, limit + 1)])**2\n",
    "\n",
    "square_of_sum - sum_of_squares"
   ]
  }
 ],
 "metadata": {
  "kernelspec": {
   "display_name": "Python 3 (ipykernel)",
   "language": "python",
   "name": "python3"
  },
  "language_info": {
   "codemirror_mode": {
    "name": "ipython",
    "version": 3
   },
   "file_extension": ".py",
   "mimetype": "text/x-python",
   "name": "python",
   "nbconvert_exporter": "python",
   "pygments_lexer": "ipython3",
   "version": "3.11.5"
  }
 },
 "nbformat": 4,
 "nbformat_minor": 5
}
