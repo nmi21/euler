{
 "cells": [
  {
   "cell_type": "markdown",
   "id": "183b3d7b",
   "metadata": {},
   "source": [
    "Since we know the upper bound, it makes sense for us to use a sieve"
   ]
  },
  {
   "cell_type": "code",
   "execution_count": 1,
   "id": "ba6df982",
   "metadata": {},
   "outputs": [],
   "source": [
    "def sieve_primes(lim):\n",
    "    \n",
    "    # initialize our array by assuming all numbers are prime\n",
    "    sieve = [True] * (lim + 1)\n",
    "    \n",
    "    # we know 0 and 1 are not prime\n",
    "    sieve[0] = sieve[1] = False\n",
    "    \n",
    "    # go through each number starting at 2\n",
    "    for i in range(2, lim + 1):\n",
    "        \n",
    "        # any multiples of i are not prime\n",
    "        # so start at 2*i and jump by i each time\n",
    "        for j in range(2 * i, lim + 1, i):\n",
    "            \n",
    "            # set multiple of i (calculated into j) as False --> not prime\n",
    "            sieve[j] = False\n",
    "            \n",
    "    # for any number, num, \n",
    "    # sieve[num] will be either True or False, depending on if num is prime\n",
    "    return sieve"
   ]
  },
  {
   "cell_type": "code",
   "execution_count": 2,
   "id": "3b68d3ee",
   "metadata": {},
   "outputs": [],
   "source": [
    "def get_primes(lim):\n",
    "    \"\"\"\n",
    "    Return all primes <= lim\n",
    "    \"\"\"\n",
    "    \n",
    "    # grab a sieve of True/False from sieve_primes()\n",
    "    sieve = sieve_primes(lim)\n",
    "    \n",
    "    # use list comprehension\n",
    "    # enumerate returns a tuple (index, element)\n",
    "    # e.g. enumerate([\"A\", \"B\", \"C\"]) returns\n",
    "    # (0, \"A\"), (1, \"B\"), (2, \"C\")\n",
    "    #\n",
    "    # we only care about the index if the number is a prime\n",
    "    # so sieve_primes(5) would be [False, False, True, True, False, True]\n",
    "    #      verify this for yourself!\n",
    "    # Thus enumerate on that would give\n",
    "    # (0, False), (1, False), (2, True), (3, True), (4, False), (5, True)\n",
    "    #\n",
    "    # we only care to save it if the value is True, so we add a conditional \n",
    "    # \"if ele\" evaluates \"if True/False\"\n",
    "    \n",
    "    return [ind for ind, ele in enumerate(sieve) if ele]"
   ]
  },
  {
   "cell_type": "code",
   "execution_count": 3,
   "id": "3e774dc8",
   "metadata": {},
   "outputs": [
    {
     "data": {
      "text/plain": [
       "17"
      ]
     },
     "execution_count": 3,
     "metadata": {},
     "output_type": "execute_result"
    }
   ],
   "source": [
    "sum(get_primes(10))"
   ]
  },
  {
   "cell_type": "code",
   "execution_count": 4,
   "id": "f268a630",
   "metadata": {},
   "outputs": [
    {
     "data": {
      "text/plain": [
       "142913828922"
      ]
     },
     "execution_count": 4,
     "metadata": {},
     "output_type": "execute_result"
    }
   ],
   "source": [
    "sum(get_primes(2_000_000))"
   ]
  }
 ],
 "metadata": {
  "kernelspec": {
   "display_name": "Python 3 (ipykernel)",
   "language": "python",
   "name": "python3"
  },
  "language_info": {
   "codemirror_mode": {
    "name": "ipython",
    "version": 3
   },
   "file_extension": ".py",
   "mimetype": "text/x-python",
   "name": "python",
   "nbconvert_exporter": "python",
   "pygments_lexer": "ipython3",
   "version": "3.11.5"
  }
 },
 "nbformat": 4,
 "nbformat_minor": 5
}
