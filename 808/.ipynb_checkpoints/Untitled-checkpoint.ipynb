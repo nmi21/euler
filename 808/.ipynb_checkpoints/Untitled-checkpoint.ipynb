{
 "cells": [
  {
   "cell_type": "code",
   "execution_count": 1,
   "id": "56464f2e",
   "metadata": {},
   "outputs": [],
   "source": [
    "%reset -f"
   ]
  },
  {
   "cell_type": "code",
   "execution_count": 2,
   "id": "a94a1b4e",
   "metadata": {},
   "outputs": [],
   "source": [
    "def is_palindrome(num):\n",
    "    num_str = str(num)\n",
    "    return num_str == num_str[::-1]"
   ]
  },
  {
   "cell_type": "code",
   "execution_count": 3,
   "id": "d038b729",
   "metadata": {},
   "outputs": [],
   "source": [
    "def reverse_number(num):\n",
    "    num_str = str(num)\n",
    "    return int(num_str[::-1])"
   ]
  },
  {
   "cell_type": "code",
   "execution_count": 5,
   "id": "41fd13d5",
   "metadata": {},
   "outputs": [],
   "source": [
    "def sieve_of_eratosthenes(limit):\n",
    "    sieve = [True] * (limit+1)\n",
    "    sieve[0] = sieve[1] = False\n",
    "    \n",
    "    for i in range(4, limit+1, 2):\n",
    "        sieve[i] = False\n",
    "        \n",
    "    for i in range(3, limit+1, 2):\n",
    "        if sieve[i]:\n",
    "            for j in range(3*i, limit+1, 2*i):\n",
    "                sieve[j] = False\n",
    "                \n",
    "    return sieve"
   ]
  },
  {
   "cell_type": "code",
   "execution_count": 6,
   "id": "b03d72a8",
   "metadata": {},
   "outputs": [],
   "source": [
    "def get_primes(limit):\n",
    "    return [ind for ind, ele in enumerate(sieve_of_eratosthenes(limit)) if ele]"
   ]
  },
  {
   "cell_type": "code",
   "execution_count": 9,
   "id": "b6de2cf8",
   "metadata": {},
   "outputs": [],
   "source": [
    "primes = get_primes(1_000_000)"
   ]
  },
  {
   "cell_type": "code",
   "execution_count": 10,
   "id": "7df173de",
   "metadata": {},
   "outputs": [],
   "source": [
    "p_sq = [x**2 for x in primes]"
   ]
  },
  {
   "cell_type": "code",
   "execution_count": 11,
   "id": "0b661e3f",
   "metadata": {},
   "outputs": [
    {
     "data": {
      "text/plain": [
       "78498"
      ]
     },
     "execution_count": 11,
     "metadata": {},
     "output_type": "execute_result"
    }
   ],
   "source": [
    "len(primes)"
   ]
  },
  {
   "cell_type": "code",
   "execution_count": 15,
   "id": "2feddf7b",
   "metadata": {},
   "outputs": [],
   "source": [
    "p_sq_palin = [x for x in p_sq if not is_palindrome(x)]"
   ]
  },
  {
   "cell_type": "code",
   "execution_count": 16,
   "id": "17798cd4",
   "metadata": {},
   "outputs": [
    {
     "data": {
      "text/plain": [
       "78493"
      ]
     },
     "execution_count": 16,
     "metadata": {},
     "output_type": "execute_result"
    }
   ],
   "source": [
    "len(p_sq_palin)"
   ]
  },
  {
   "cell_type": "code",
   "execution_count": 17,
   "id": "6ded3376",
   "metadata": {},
   "outputs": [],
   "source": [
    "p_sq_palin_set = set(p_sq_palin)"
   ]
  },
  {
   "cell_type": "code",
   "execution_count": 18,
   "id": "e0a097ce",
   "metadata": {},
   "outputs": [
    {
     "name": "stdout",
     "output_type": "stream",
     "text": [
      "169\n",
      "961\n",
      "12769\n",
      "96721\n",
      "1042441\n",
      "1062961\n",
      "1216609\n",
      "1442401\n",
      "1692601\n",
      "9066121\n",
      "121066009\n",
      "900660121\n",
      "12148668841\n",
      "12367886521\n",
      "12568876321\n",
      "14886684121\n"
     ]
    },
    {
     "ename": "IndexError",
     "evalue": "list index out of range",
     "output_type": "error",
     "traceback": [
      "\u001b[0;31m---------------------------------------------------------------------------\u001b[0m",
      "\u001b[0;31mIndexError\u001b[0m                                Traceback (most recent call last)",
      "Cell \u001b[0;32mIn[18], line 4\u001b[0m\n\u001b[1;32m      2\u001b[0m ind \u001b[38;5;241m=\u001b[39m \u001b[38;5;241m0\u001b[39m\n\u001b[1;32m      3\u001b[0m \u001b[38;5;28;01mwhile\u001b[39;00m \u001b[38;5;28mlen\u001b[39m(res) \u001b[38;5;241m<\u001b[39m \u001b[38;5;241m50\u001b[39m:\n\u001b[0;32m----> 4\u001b[0m     num \u001b[38;5;241m=\u001b[39m p_sq_palin[ind]\n\u001b[1;32m      6\u001b[0m     \u001b[38;5;28;01mif\u001b[39;00m reverse_number(num) \u001b[38;5;129;01min\u001b[39;00m p_sq_palin_set:\n\u001b[1;32m      7\u001b[0m         res\u001b[38;5;241m.\u001b[39mappend(num)\n",
      "\u001b[0;31mIndexError\u001b[0m: list index out of range"
     ]
    }
   ],
   "source": [
    "res = []\n",
    "ind = 0\n",
    "while len(res) < 50:\n",
    "    num = p_sq_palin[ind]\n",
    "    \n",
    "    if reverse_number(num) in p_sq_palin_set:\n",
    "        res.append(num)\n",
    "        print(num)\n",
    "    \n",
    "    ind += 1"
   ]
  },
  {
   "cell_type": "markdown",
   "id": "40fc3335",
   "metadata": {},
   "source": [
    "the numbers are going to be quite large, and so need to find some sort of relationship between them"
   ]
  },
  {
   "cell_type": "code",
   "execution_count": 21,
   "id": "299bb199",
   "metadata": {},
   "outputs": [
    {
     "data": {
      "text/plain": [
       "[169,\n",
       " 961,\n",
       " 12769,\n",
       " 96721,\n",
       " 1042441,\n",
       " 1062961,\n",
       " 1216609,\n",
       " 1442401,\n",
       " 1692601,\n",
       " 9066121,\n",
       " 121066009,\n",
       " 900660121,\n",
       " 12148668841,\n",
       " 12367886521,\n",
       " 12568876321,\n",
       " 14886684121]"
      ]
     },
     "execution_count": 21,
     "metadata": {},
     "output_type": "execute_result"
    }
   ],
   "source": [
    "res"
   ]
  },
  {
   "cell_type": "code",
   "execution_count": 22,
   "id": "bc8fedc6",
   "metadata": {},
   "outputs": [],
   "source": [
    "res_root = [x**.5 for x in res]"
   ]
  },
  {
   "cell_type": "raw",
   "id": "6b16d72b",
   "metadata": {},
   "source": []
  }
 ],
 "metadata": {
  "kernelspec": {
   "display_name": "Python 3 (ipykernel)",
   "language": "python",
   "name": "python3"
  },
  "language_info": {
   "codemirror_mode": {
    "name": "ipython",
    "version": 3
   },
   "file_extension": ".py",
   "mimetype": "text/x-python",
   "name": "python",
   "nbconvert_exporter": "python",
   "pygments_lexer": "ipython3",
   "version": "3.11.5"
  }
 },
 "nbformat": 4,
 "nbformat_minor": 5
}
