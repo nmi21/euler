{
 "cells": [
  {
   "cell_type": "code",
   "execution_count": 1,
   "id": "26343823",
   "metadata": {},
   "outputs": [],
   "source": [
    "import math\n",
    "import random\n",
    "import time"
   ]
  },
  {
   "cell_type": "code",
   "execution_count": 2,
   "id": "077c431a",
   "metadata": {},
   "outputs": [
    {
     "data": {
      "text/plain": [
       "{'r': 0, 'o': 0, 'y': 0, 'g': 0, 'b': 0, 'i': 0, 'v': 0}"
      ]
     },
     "execution_count": 2,
     "metadata": {},
     "output_type": "execute_result"
    }
   ],
   "source": [
    "# monte carlo simulation\n",
    "\n",
    "colors = ['r', 'o', 'y', 'g', 'b', 'i', 'v']\n",
    "color_dict_ini = {k: 0 for k in colors}\n",
    "\n",
    "color_dict_ini"
   ]
  },
  {
   "cell_type": "code",
   "execution_count": 3,
   "id": "e06acb04",
   "metadata": {},
   "outputs": [],
   "source": [
    "def rainbow():\n",
    "    colors = ['r', 'o', 'y', 'g', 'b', 'i', 'v']\n",
    "    color_dict = {k: 0 for k in colors}\n",
    "    urn_dict = {k: 10 for k in colors}\n",
    "\n",
    "    num_draws = 20\n",
    "    for _ in range(num_draws):\n",
    "        k = random.choice(list(urn_dict.keys()))\n",
    "        urn_dict[k] -= 1\n",
    "        color_dict[k] += 1\n",
    "        if urn_dict[k] == 0:\n",
    "            del urn_dict[k]\n",
    "\n",
    "    color_count = 0\n",
    "    for key in color_dict.keys():\n",
    "        if color_dict[key] != 0:\n",
    "            color_count += 1\n",
    "\n",
    "    return color_count"
   ]
  },
  {
   "cell_type": "code",
   "execution_count": 4,
   "id": "e9c344ae",
   "metadata": {},
   "outputs": [],
   "source": [
    "def sim(num):\n",
    "    \n",
    "    t = num // 10\n",
    "    \n",
    "    counter = 0\n",
    "    for _ in range(num):\n",
    "        if _ % t == 0:\n",
    "            print(f\"iteration {_}\")\n",
    "        counter += rainbow()\n",
    "    return Decimal(counter) / Decimal(num)"
   ]
  },
  {
   "cell_type": "code",
   "execution_count": 10,
   "id": "fc185115",
   "metadata": {},
   "outputs": [
    {
     "name": "stdout",
     "output_type": "stream",
     "text": [
      "iteration 0\n",
      "iteration 100000\n",
      "iteration 200000\n",
      "iteration 300000\n",
      "iteration 400000\n",
      "iteration 500000\n",
      "iteration 600000\n",
      "iteration 700000\n",
      "iteration 800000\n",
      "iteration 900000\n"
     ]
    },
    {
     "data": {
      "text/plain": [
       "Decimal('6.678777')"
      ]
     },
     "execution_count": 10,
     "metadata": {},
     "output_type": "execute_result"
    }
   ],
   "source": [
    "sim(1000000)"
   ]
  },
  {
   "cell_type": "markdown",
   "id": "85a3296e",
   "metadata": {},
   "source": [
    "Monte Carlo simulation is going to take too long to be sufficiently precise. \n",
    "\n",
    "Looking back at the wording of the problem, we are looking to find the distinct number of colors selected.\n",
    "\n",
    "So what is the probability that any one of the seven colors (ROYGBIV) is selected?\n",
    "\n",
    "The chance that any one color is selected is the same as \n",
    "\n",
    "    1 - P(not selected)"
   ]
  },
  {
   "cell_type": "markdown",
   "id": "2c077e88",
   "metadata": {},
   "source": [
    "To get the probability that any one color gets selected, let's start by seeing what the chance that that particular color does not get selected. \n",
    "\n",
    "There are \n",
    "$$ \n",
    "{70 \\choose 20} = 161884603662657876 \n",
    "$$ \n",
    "\n",
    "ways to select 20 balls total from a set of 70.\n",
    "\n",
    "\n",
    "How many of them don't select a ball of a certain color? There are \n",
    "\n",
    "$$\n",
    "{60 \\choose 20} = 4191844505805495\n",
    "$$ \n",
    "\n",
    "ways to get 20 balls from 60 (that is: 70 total to choose from but only selected from the 60 that are not of desired color)."
   ]
  },
  {
   "cell_type": "markdown",
   "id": "20b55448",
   "metadata": {},
   "source": [
    "So there is \n",
    "\n",
    "$$\n",
    "{60 \\choose 20}  /  {70 \\choose 20} \\approx 2.589\\%\n",
    "$$\n",
    "\n",
    "chance of not getting that specific color."
   ]
  },
  {
   "cell_type": "markdown",
   "id": "50a31033",
   "metadata": {},
   "source": [
    "Expanding, we can see that there is a \n",
    "\n",
    "$$\n",
    "1 - {60 \\choose 20} / {70 \\choose 20} \\approx 97.411\\%\n",
    "$$\n",
    "\n",
    "chance of getting the specific color!"
   ]
  },
  {
   "cell_type": "markdown",
   "id": "590bca47",
   "metadata": {},
   "source": [
    "Alternatively stated: each color has a 0.97411 expected value of appearing. \n",
    "    \n",
    "We simply need to multiply this by the total number of colors! (and then round to the correct number of digits)"
   ]
  },
  {
   "cell_type": "code",
   "execution_count": 30,
   "id": "f93992ad",
   "metadata": {},
   "outputs": [
    {
     "data": {
      "text/plain": [
       "6.818741802"
      ]
     },
     "execution_count": 30,
     "metadata": {},
     "output_type": "execute_result"
    }
   ],
   "source": [
    "round(7 * (1 - math.comb(60, 20) / math.comb(70, 20)), 9)"
   ]
  }
 ],
 "metadata": {
  "kernelspec": {
   "display_name": "Python 3 (ipykernel)",
   "language": "python",
   "name": "python3"
  },
  "language_info": {
   "codemirror_mode": {
    "name": "ipython",
    "version": 3
   },
   "file_extension": ".py",
   "mimetype": "text/x-python",
   "name": "python",
   "nbconvert_exporter": "python",
   "pygments_lexer": "ipython3",
   "version": "3.11.5"
  }
 },
 "nbformat": 4,
 "nbformat_minor": 5
}
