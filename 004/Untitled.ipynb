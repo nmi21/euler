{
 "cells": [
  {
   "cell_type": "markdown",
   "id": "b36d3607",
   "metadata": {},
   "source": [
    "A palindromic number reads the same both ways. The largest palindrome made from the product of two 2-digit numbers is 9009 = 91 x 99.\n",
    "\n",
    "Find the largest palindrome made from the product of two 3-digit numbers."
   ]
  },
  {
   "cell_type": "code",
   "execution_count": 1,
   "id": "faf7282e",
   "metadata": {},
   "outputs": [],
   "source": [
    "import time"
   ]
  },
  {
   "cell_type": "code",
   "execution_count": 2,
   "id": "a662d977",
   "metadata": {},
   "outputs": [],
   "source": [
    "def is_palindrome(x):\n",
    "    temp = str(x)\n",
    "    return temp == temp[::-1]"
   ]
  },
  {
   "cell_type": "code",
   "execution_count": 3,
   "id": "37ed718c",
   "metadata": {},
   "outputs": [
    {
     "data": {
      "text/plain": [
       "True"
      ]
     },
     "execution_count": 3,
     "metadata": {},
     "output_type": "execute_result"
    }
   ],
   "source": [
    "is_palindrome(9009)"
   ]
  },
  {
   "cell_type": "code",
   "execution_count": 4,
   "id": "83b9aa04",
   "metadata": {},
   "outputs": [
    {
     "data": {
      "text/plain": [
       "False"
      ]
     },
     "execution_count": 4,
     "metadata": {},
     "output_type": "execute_result"
    }
   ],
   "source": [
    "is_palindrome(99900)"
   ]
  },
  {
   "cell_type": "code",
   "execution_count": 10,
   "id": "a0a8cb4f",
   "metadata": {},
   "outputs": [
    {
     "name": "stdout",
     "output_type": "stream",
     "text": [
      "factors=(999999, 999001)\n",
      "max_palin=999000000999\n",
      "0.4704887866973877 sec\n"
     ]
    }
   ],
   "source": [
    "t0 = time.time()\n",
    "\n",
    "# set a small number to start, replace it if you find a bigger one\n",
    "max_palin = 0\n",
    "factors = (0, 0)\n",
    "\n",
    "# we know that it is the product of two 3-digit numbers\n",
    "# so we only need to check between 100 and 999\n",
    "\n",
    "# since larger products come from larger numbers, start high, work low\n",
    "start = 999999\n",
    "end = 100000\n",
    "\n",
    "for i in range(start, end - 1, -1):\n",
    "    for j in range(start, end - 1, -1):\n",
    "        \n",
    "        # calculate candidate\n",
    "        num = i * j\n",
    "        \n",
    "        # verify that num > max_palin, \n",
    "        # else we won't replace it regardless\n",
    "        if num <= max_palin:\n",
    "            # if we get here, break out of the j loop and go to next i\n",
    "            break\n",
    "            \n",
    "        if is_palindrome(num):\n",
    "            max_palin = num\n",
    "            factors = (i, j)\n",
    "        \n",
    "print(f\"{factors=}\")\n",
    "print(f\"{max_palin=}\")\n",
    "print(f\"{time.time() - t0} sec\")"
   ]
  }
 ],
 "metadata": {
  "kernelspec": {
   "display_name": "Python 3 (ipykernel)",
   "language": "python",
   "name": "python3"
  },
  "language_info": {
   "codemirror_mode": {
    "name": "ipython",
    "version": 3
   },
   "file_extension": ".py",
   "mimetype": "text/x-python",
   "name": "python",
   "nbconvert_exporter": "python",
   "pygments_lexer": "ipython3",
   "version": "3.11.5"
  }
 },
 "nbformat": 4,
 "nbformat_minor": 5
}
