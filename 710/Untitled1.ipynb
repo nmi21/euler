{
 "cells": [
  {
   "cell_type": "code",
   "execution_count": 1,
   "id": "7330ed12",
   "metadata": {},
   "outputs": [],
   "source": [
    "import math\n",
    "import itertools"
   ]
  },
  {
   "cell_type": "markdown",
   "id": "50eb33e1",
   "metadata": {},
   "source": [
    "We need to be able to solve the first 20 to see if there is some relationship between t(n) and t(k < n).\n",
    "\n",
    "There are going to be 2^(n-1) compositions of n. That is to say that there are 2^(n-1) ways in which an integer n can be written as the sum of a sequence."
   ]
  },
  {
   "cell_type": "code",
   "execution_count": 2,
   "id": "44917a88",
   "metadata": {},
   "outputs": [],
   "source": [
    "def is_palindrome(x):\n",
    "    return str(x) == str(x)[::-1]"
   ]
  },
  {
   "cell_type": "code",
   "execution_count": 3,
   "id": "331aece5",
   "metadata": {},
   "outputs": [],
   "source": [
    "def has_two(x):\n",
    "    return 2 in x"
   ]
  },
  {
   "cell_type": "code",
   "execution_count": 4,
   "id": "64bb5fbc",
   "metadata": {},
   "outputs": [],
   "source": [
    "def is_palindrome_tup(x):\n",
    "    # go thru each element\n",
    "    # determine if it matches the element in the opposite position\n",
    "    for i in range(len(x) // 2):\n",
    "        if x[i] != x[-i - 1]:\n",
    "            return False\n",
    "    \n",
    "    # if all are the same, is palindrome\n",
    "    return True        "
   ]
  },
  {
   "cell_type": "code",
   "execution_count": 5,
   "id": "b4c48085",
   "metadata": {},
   "outputs": [],
   "source": [
    "def generate_partitions(n):\n",
    "    # base case of recursion: zero is the sum of the empty list\n",
    "    if n == 0:\n",
    "        yield []\n",
    "        return\n",
    "\n",
    "    # modify partitions of n-1 to form partitions of n\n",
    "    for p in generate_partitions(n-1):\n",
    "        yield [1] + p\n",
    "        if p and (len(p) < 2 or p[1] > p[0]):\n",
    "            yield [p[0] + 1] + p[1:]"
   ]
  },
  {
   "cell_type": "code",
   "execution_count": 14,
   "id": "507029b9",
   "metadata": {},
   "outputs": [
    {
     "data": {
      "text/plain": [
       "[(2, 2)]"
      ]
     },
     "execution_count": 14,
     "metadata": {},
     "output_type": "execute_result"
    }
   ],
   "source": [
    "num = 4\n",
    "\n",
    "x = [tuple(l) for l in generate_partitions(num) if has_two(l)]\n",
    "y = [l for l in x if is_palindrome_tup(l)]\n",
    "\n",
    "y"
   ]
  },
  {
   "cell_type": "code",
   "execution_count": 26,
   "id": "cb500968",
   "metadata": {},
   "outputs": [],
   "source": [
    "def t(n):\n",
    "    x = [tuple(l) for l in generate_partitions(n)]\n",
    "    y = [l for l in x if has_two(l)]\n",
    "\n",
    "    for tup in y:\n",
    "        print(tup)\n",
    "\n",
    "    return len(y)"
   ]
  },
  {
   "cell_type": "code",
   "execution_count": 28,
   "id": "2802f36c",
   "metadata": {},
   "outputs": [
    {
     "name": "stdout",
     "output_type": "stream",
     "text": [
      "(1, 1, 1, 1, 2)\n",
      "(1, 1, 2, 2)\n",
      "(2, 2, 2)\n",
      "(1, 2, 3)\n",
      "(2, 4)\n"
     ]
    },
    {
     "data": {
      "text/plain": [
       "5"
      ]
     },
     "execution_count": 28,
     "metadata": {},
     "output_type": "execute_result"
    }
   ],
   "source": [
    "t(6)"
   ]
  },
  {
   "cell_type": "code",
   "execution_count": 22,
   "id": "2178c8de",
   "metadata": {},
   "outputs": [
    {
     "name": "stdout",
     "output_type": "stream",
     "text": [
      "637500 109375 0\n"
     ]
    }
   ],
   "source": [
    "M=1000000\n",
    "h1,h2=0,1\n",
    "to,te=1,2 #t5,t4\n",
    "w,k=1,2\n",
    "while to and te:\n",
    "    k+=1\n",
    "    h=(w+to-h1)%M\n",
    "    w=(2*w)%M\n",
    "    te=(w+to-h2+h)%M\n",
    "    to=(to+h)%M\n",
    "    h1,h2=h2,h\n",
    "\n",
    "print(k,to,te)"
   ]
  }
 ],
 "metadata": {
  "kernelspec": {
   "display_name": "Python 3 (ipykernel)",
   "language": "python",
   "name": "python3"
  },
  "language_info": {
   "codemirror_mode": {
    "name": "ipython",
    "version": 3
   },
   "file_extension": ".py",
   "mimetype": "text/x-python",
   "name": "python",
   "nbconvert_exporter": "python",
   "pygments_lexer": "ipython3",
   "version": "3.12.3"
  }
 },
 "nbformat": 4,
 "nbformat_minor": 5
}
