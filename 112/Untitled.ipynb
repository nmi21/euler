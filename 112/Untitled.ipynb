{
 "cells": [
  {
   "cell_type": "code",
   "execution_count": 5,
   "id": "eb630a80",
   "metadata": {},
   "outputs": [],
   "source": [
    "def is_increasing(num):\n",
    "    \n",
    "    temp = num\n",
    "    \n",
    "    prev = temp % 10\n",
    "    temp //= 10\n",
    "    while temp > 0:\n",
    "        current = temp % 10\n",
    "        \n",
    "        if current > prev:\n",
    "            return False\n",
    "        \n",
    "        prev = current\n",
    "        temp //= 10\n",
    "        \n",
    "    return True"
   ]
  },
  {
   "cell_type": "code",
   "execution_count": 8,
   "id": "2d84ef61",
   "metadata": {},
   "outputs": [],
   "source": [
    "def is_decreasing(num):\n",
    "    \n",
    "    temp = num\n",
    "    \n",
    "    prev = temp % 10\n",
    "    temp //= 10\n",
    "    while temp > 0:\n",
    "        current = temp % 10\n",
    "        \n",
    "        if current < prev:\n",
    "            return False\n",
    "        \n",
    "        prev = current\n",
    "        temp //= 10\n",
    "        \n",
    "    return True"
   ]
  },
  {
   "cell_type": "code",
   "execution_count": 12,
   "id": "061dd399",
   "metadata": {},
   "outputs": [],
   "source": [
    "def is_bouncy(num):\n",
    "    return not (is_increasing(num) or is_decreasing(num))"
   ]
  },
  {
   "cell_type": "code",
   "execution_count": 32,
   "id": "7b62b243",
   "metadata": {},
   "outputs": [],
   "source": [
    "import time"
   ]
  },
  {
   "cell_type": "code",
   "execution_count": 35,
   "id": "bf22d2d4",
   "metadata": {},
   "outputs": [
    {
     "name": "stdout",
     "output_type": "stream",
     "text": [
      "1.1689116954803467 sec\n"
     ]
    },
    {
     "data": {
      "text/plain": [
       "1587000"
      ]
     },
     "execution_count": 35,
     "metadata": {},
     "output_type": "execute_result"
    }
   ],
   "source": [
    "t0 = time.time()\n",
    "\n",
    "bouncy = 0\n",
    "total = 0\n",
    "\n",
    "target = .99\n",
    "\n",
    "i = 1\n",
    "running = True\n",
    "while running:\n",
    "    \n",
    "    total += 1\n",
    "    \n",
    "    if is_bouncy(i):\n",
    "        bouncy += 1\n",
    "    \n",
    "    if bouncy / total == target:\n",
    "        running = False\n",
    "        break\n",
    "    \n",
    "    i += 1\n",
    "\n",
    "\n",
    "print(f\"{time.time() - t0} sec\")\n",
    "\n",
    "total"
   ]
  }
 ],
 "metadata": {
  "kernelspec": {
   "display_name": "Python 3 (ipykernel)",
   "language": "python",
   "name": "python3"
  },
  "language_info": {
   "codemirror_mode": {
    "name": "ipython",
    "version": 3
   },
   "file_extension": ".py",
   "mimetype": "text/x-python",
   "name": "python",
   "nbconvert_exporter": "python",
   "pygments_lexer": "ipython3",
   "version": "3.11.5"
  }
 },
 "nbformat": 4,
 "nbformat_minor": 5
}
