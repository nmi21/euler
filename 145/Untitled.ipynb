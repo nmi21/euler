{
 "cells": [
  {
   "cell_type": "code",
   "execution_count": 1,
   "id": "5b8347c6",
   "metadata": {},
   "outputs": [],
   "source": [
    "def reverse(n):\n",
    "    return int(str(n)[::-1])"
   ]
  },
  {
   "cell_type": "code",
   "execution_count": 41,
   "id": "f616e015",
   "metadata": {},
   "outputs": [],
   "source": [
    "def is_reversible(n):\n",
    "    \n",
    "    # number cannot end in 0 because leading zeroes aren't allowed\n",
    "    if n % 10 == 0:\n",
    "        return False\n",
    "    \n",
    "    r = reverse(n)\n",
    "    if r % 10 == 0:\n",
    "        return False\n",
    "    \n",
    "    num = n + r\n",
    "    \n",
    "    while num != 0:\n",
    "        \n",
    "        if (num % 10) % 2 == 0:\n",
    "            return False\n",
    "        \n",
    "        num //= 10\n",
    "    \n",
    "    return True"
   ]
  },
  {
   "cell_type": "code",
   "execution_count": 42,
   "id": "67c9060b",
   "metadata": {},
   "outputs": [
    {
     "data": {
      "text/plain": [
       "True"
      ]
     },
     "execution_count": 42,
     "metadata": {},
     "output_type": "execute_result"
    }
   ],
   "source": [
    "is_reversible(409)"
   ]
  },
  {
   "cell_type": "code",
   "execution_count": 44,
   "id": "308a4b6b",
   "metadata": {},
   "outputs": [
    {
     "data": {
      "text/plain": [
       "304360"
      ]
     },
     "execution_count": 44,
     "metadata": {},
     "output_type": "execute_result"
    }
   ],
   "source": [
    "target = 1_000_000_000\n",
    "\n",
    "counter = 0\n",
    "step = target // 10\n",
    "for i in range(1, target, 2):\n",
    "    if i % step == 0:\n",
    "        print(i)\n",
    "    if is_reversible(i):\n",
    "        counter += 1\n",
    "\n",
    "counter"
   ]
  }
 ],
 "metadata": {
  "kernelspec": {
   "display_name": "Python 3 (ipykernel)",
   "language": "python",
   "name": "python3"
  },
  "language_info": {
   "codemirror_mode": {
    "name": "ipython",
    "version": 3
   },
   "file_extension": ".py",
   "mimetype": "text/x-python",
   "name": "python",
   "nbconvert_exporter": "python",
   "pygments_lexer": "ipython3",
   "version": "3.11.5"
  }
 },
 "nbformat": 4,
 "nbformat_minor": 5
}
