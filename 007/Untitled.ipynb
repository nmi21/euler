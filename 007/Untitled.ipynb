{
 "cells": [
  {
   "cell_type": "markdown",
   "id": "9813be00",
   "metadata": {},
   "source": [
    "By listing the first six prime numbers: 2, 3, 5, 7, 11, and 13, we can see that the 6th prime is 13.\n",
    "\n",
    "What is the 10,001st prime number?"
   ]
  },
  {
   "cell_type": "markdown",
   "id": "06d93e8f",
   "metadata": {},
   "source": [
    "We can decide if we prefer compute or memory here. I'll do it both ways!"
   ]
  },
  {
   "cell_type": "code",
   "execution_count": 1,
   "id": "dee46028",
   "metadata": {},
   "outputs": [],
   "source": [
    "import time"
   ]
  },
  {
   "cell_type": "code",
   "execution_count": 7,
   "id": "683e6799",
   "metadata": {},
   "outputs": [
    {
     "name": "stdout",
     "output_type": "stream",
     "text": [
      "0.1316514015197754 sec\n"
     ]
    },
    {
     "data": {
      "text/plain": [
       "104743"
      ]
     },
     "execution_count": 7,
     "metadata": {},
     "output_type": "execute_result"
    }
   ],
   "source": [
    "# compute method:\n",
    "# -- start a counter\n",
    "# -- check all numbers\n",
    "# -- if prime, increment counter\n",
    "# -- stop at target\n",
    "\n",
    "\n",
    "def is_prime(num):\n",
    "    if num < 2:\n",
    "        return False\n",
    "    \n",
    "    for i in range(2, int(num**.5) + 1):\n",
    "        if num % i == 0:\n",
    "            return False\n",
    "        \n",
    "    return True\n",
    "\n",
    "\n",
    "t0 = time.time()\n",
    "\n",
    "target = 10001\n",
    "counter = 0\n",
    "i = 0\n",
    "while counter < target:\n",
    "    \n",
    "    i += 1\n",
    "    \n",
    "    if is_prime(i):\n",
    "        counter += 1\n",
    "    \n",
    "print(f\"{time.time() - t0} sec\")\n",
    "i"
   ]
  },
  {
   "cell_type": "code",
   "execution_count": 6,
   "id": "4beac8c7",
   "metadata": {},
   "outputs": [
    {
     "name": "stdout",
     "output_type": "stream",
     "text": [
      "0.7137281894683838 sec\n"
     ]
    },
    {
     "data": {
      "text/plain": [
       "104743"
      ]
     },
     "execution_count": 6,
     "metadata": {},
     "output_type": "execute_result"
    }
   ],
   "source": [
    "# memory method:\n",
    "# -- generate all of the primes to some sufficiently large number\n",
    "# -- enumerate the list and grab the 10001st prime\n",
    "\n",
    "def sieve_primes(limit):\n",
    "    # build a sieve solver\n",
    "    \n",
    "    # initialize array\n",
    "    sieve = [True] * (limit + 1)\n",
    "    sieve[0] = sieve[1] = False\n",
    "    \n",
    "    # more efficient ways to do this, but this will do!\n",
    "    for i in range(2, limit+1):\n",
    "        for j in range(i + i, limit + 1, i):\n",
    "            sieve[j] = False\n",
    "            \n",
    "    return sieve\n",
    "\n",
    "def get_primes(limit):\n",
    "    sieve = sieve_primes(limit)\n",
    "    # this will only add the index to the list if \"ele\" is True\n",
    "    return [ind for ind, ele in enumerate(sieve) if ele]\n",
    "\n",
    "t0 = time.time()\n",
    "\n",
    "# choose some sufficiently large number\n",
    "lim = 1_000_000\n",
    "target = 10_001\n",
    "\n",
    "# get all of the primes <= lim\n",
    "primes = get_primes(lim)\n",
    "\n",
    "print(f\"{time.time() - t0} sec\")\n",
    "# get target prime\n",
    "primes[target - 1]"
   ]
  },
  {
   "cell_type": "code",
   "execution_count": null,
   "id": "30ec6cc2",
   "metadata": {},
   "outputs": [],
   "source": []
  }
 ],
 "metadata": {
  "kernelspec": {
   "display_name": "Python 3 (ipykernel)",
   "language": "python",
   "name": "python3"
  },
  "language_info": {
   "codemirror_mode": {
    "name": "ipython",
    "version": 3
   },
   "file_extension": ".py",
   "mimetype": "text/x-python",
   "name": "python",
   "nbconvert_exporter": "python",
   "pygments_lexer": "ipython3",
   "version": "3.11.5"
  }
 },
 "nbformat": 4,
 "nbformat_minor": 5
}
