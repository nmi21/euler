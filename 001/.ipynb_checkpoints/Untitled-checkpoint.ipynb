{
 "cells": [
  {
   "cell_type": "markdown",
   "id": "0157914f",
   "metadata": {},
   "source": [
    "If we list all of the natural numbers below 10 that are multiples of 3 or 5, we get 3, 5, 6, and 9. The sum of these multiples is 23."
   ]
  },
  {
   "cell_type": "code",
   "execution_count": 1,
   "id": "6e61fd98",
   "metadata": {},
   "outputs": [
    {
     "data": {
      "text/plain": [
       "23"
      ]
     },
     "execution_count": 1,
     "metadata": {},
     "output_type": "execute_result"
    }
   ],
   "source": [
    "3 + 5 + 6 + 9"
   ]
  },
  {
   "cell_type": "code",
   "execution_count": 2,
   "id": "a3c81269",
   "metadata": {},
   "outputs": [],
   "source": [
    "multiples_list = [3, 5, 6, 9]"
   ]
  },
  {
   "cell_type": "code",
   "execution_count": 3,
   "id": "a409f9de",
   "metadata": {},
   "outputs": [
    {
     "data": {
      "text/plain": [
       "23"
      ]
     },
     "execution_count": 3,
     "metadata": {},
     "output_type": "execute_result"
    }
   ],
   "source": [
    "sum(multiples_list)"
   ]
  },
  {
   "cell_type": "code",
   "execution_count": 24,
   "id": "e23c08a4",
   "metadata": {},
   "outputs": [
    {
     "data": {
      "text/plain": [
       "True"
      ]
     },
     "execution_count": 24,
     "metadata": {},
     "output_type": "execute_result"
    }
   ],
   "source": [
    "num = 9\n",
    "\n",
    "num % 3 == 0"
   ]
  },
  {
   "cell_type": "code",
   "execution_count": 47,
   "id": "b82fd7e2",
   "metadata": {},
   "outputs": [
    {
     "name": "stdout",
     "output_type": "stream",
     "text": [
      "3\n",
      "5\n",
      "6\n",
      "9\n"
     ]
    }
   ],
   "source": [
    "# 1, 2, 3, 4, 5, 6, 7, 8, 9\n",
    "\n",
    "for num in range(1, 9 + 1):\n",
    "        \n",
    "    if num % 3 == 0 or num % 5 == 0:\n",
    "        print(num)"
   ]
  },
  {
   "cell_type": "code",
   "execution_count": 49,
   "id": "1380e032",
   "metadata": {},
   "outputs": [
    {
     "data": {
      "text/plain": [
       "[3, 5, 6, 9]"
      ]
     },
     "execution_count": 49,
     "metadata": {},
     "output_type": "execute_result"
    }
   ],
   "source": [
    "denise_list = []\n",
    "\n",
    "for num in range(1, 9+1):\n",
    "    \n",
    "    if num % 3 == 0 or num % 5 == 0:\n",
    "        denise_list.append(num)\n",
    "        \n",
    "denise_list"
   ]
  },
  {
   "cell_type": "code",
   "execution_count": null,
   "id": "82711293",
   "metadata": {},
   "outputs": [],
   "source": []
  }
 ],
 "metadata": {
  "kernelspec": {
   "display_name": "Python 3 (ipykernel)",
   "language": "python",
   "name": "python3"
  },
  "language_info": {
   "codemirror_mode": {
    "name": "ipython",
    "version": 3
   },
   "file_extension": ".py",
   "mimetype": "text/x-python",
   "name": "python",
   "nbconvert_exporter": "python",
   "pygments_lexer": "ipython3",
   "version": "3.11.5"
  }
 },
 "nbformat": 4,
 "nbformat_minor": 5
}
