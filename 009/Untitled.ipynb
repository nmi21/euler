{
 "cells": [
  {
   "cell_type": "markdown",
   "id": "12cce374",
   "metadata": {},
   "source": [
    "Ideally try to minimize square root calculations, and so I'm going to try to avoid them.\n",
    "\n",
    "Otherwise stated, I will compare operations in square form rather than calculating c via square root of Pythagorean algorithm."
   ]
  },
  {
   "cell_type": "markdown",
   "id": "97ad5462",
   "metadata": {},
   "source": [
    "We know a + b + c has to equal 1000, and so iterate through a and b, calculate c"
   ]
  },
  {
   "cell_type": "code",
   "execution_count": 1,
   "id": "9c6f1952",
   "metadata": {},
   "outputs": [
    {
     "data": {
      "text/plain": [
       "31875000"
      ]
     },
     "execution_count": 1,
     "metadata": {},
     "output_type": "execute_result"
    }
   ],
   "source": [
    "# target number\n",
    "num = 1000\n",
    "\n",
    "# initialize ans\n",
    "ans = None\n",
    "\n",
    "# a nor b can == num, and so we can stop just short\n",
    "for a in range(1, num):\n",
    "    for b in range(1, num):\n",
    "        \n",
    "        # we know a + b + c = 1000\n",
    "        c = num - a - b\n",
    "        if a**2 + b**2 == c**2:\n",
    "            ans = a * b * c\n",
    "            \n",
    "ans"
   ]
  }
 ],
 "metadata": {
  "kernelspec": {
   "display_name": "Python 3 (ipykernel)",
   "language": "python",
   "name": "python3"
  },
  "language_info": {
   "codemirror_mode": {
    "name": "ipython",
    "version": 3
   },
   "file_extension": ".py",
   "mimetype": "text/x-python",
   "name": "python",
   "nbconvert_exporter": "python",
   "pygments_lexer": "ipython3",
   "version": "3.11.5"
  }
 },
 "nbformat": 4,
 "nbformat_minor": 5
}
