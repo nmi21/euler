{
 "cells": [
  {
   "cell_type": "markdown",
   "id": "35a31e2d",
   "metadata": {},
   "source": [
    "You could go through each number and check to see if it divides out... but that would be 20! numbers (approx 2.4 * 10^18), which is a lot...\n",
    "\n",
    "You could speed that up 20 times by knowing it has to divide by 20, which leaves you with 1.2 * 10^17 numbers. An improvement, but still probably way too many."
   ]
  },
  {
   "cell_type": "markdown",
   "id": "a324a09f",
   "metadata": {},
   "source": [
    "You could also reason that the answer must be divisible by 2520 since that is the smallest number by which 1:10 can be divided without remainder. This leaves 9.6 * 10^14 numbers, which is getting better and honestly probably solvable at that point.\n",
    "\n",
    "But that's not terribly fun, is it?"
   ]
  },
  {
   "cell_type": "markdown",
   "id": "4cbba260",
   "metadata": {},
   "source": [
    "We can take all of the prime factors, and figure out the highest exponent for each prime factor, and multiply all of those out!"
   ]
  },
  {
   "cell_type": "code",
   "execution_count": 8,
   "id": "c1b090d6",
   "metadata": {},
   "outputs": [],
   "source": [
    "limit = 20"
   ]
  },
  {
   "cell_type": "code",
   "execution_count": 9,
   "id": "8fdb1f5a",
   "metadata": {},
   "outputs": [],
   "source": [
    "# primes < 20\n",
    "primes = [2, 3, 5, 7, 11, 13, 17, 19]"
   ]
  },
  {
   "cell_type": "code",
   "execution_count": 10,
   "id": "64d41a83",
   "metadata": {},
   "outputs": [],
   "source": [
    "# calculate the max prime factors\n",
    "max_exp_prime_factor = [0] * len(primes)\n",
    "\n",
    "for num in range(1, limit + 1):\n",
    "    temp = num\n",
    "    for i in range(len(primes)):\n",
    "        counter = 0\n",
    "        while temp % primes[i] == 0:\n",
    "            counter += 1\n",
    "            temp = temp // primes[i]\n",
    "        if counter > max_exp_prime_factor[i]:\n",
    "            max_exp_prime_factor[i] = counter"
   ]
  },
  {
   "cell_type": "code",
   "execution_count": 11,
   "id": "0fe85ad9",
   "metadata": {},
   "outputs": [
    {
     "data": {
      "text/plain": [
       "232792560"
      ]
     },
     "execution_count": 11,
     "metadata": {},
     "output_type": "execute_result"
    }
   ],
   "source": [
    "prod = 1\n",
    "for i in range(len(primes)):\n",
    "    prod *= primes[i] ** max_exp_prime_factor[i]\n",
    "    \n",
    "prod"
   ]
  }
 ],
 "metadata": {
  "kernelspec": {
   "display_name": "Python 3 (ipykernel)",
   "language": "python",
   "name": "python3"
  },
  "language_info": {
   "codemirror_mode": {
    "name": "ipython",
    "version": 3
   },
   "file_extension": ".py",
   "mimetype": "text/x-python",
   "name": "python",
   "nbconvert_exporter": "python",
   "pygments_lexer": "ipython3",
   "version": "3.11.5"
  }
 },
 "nbformat": 4,
 "nbformat_minor": 5
}
