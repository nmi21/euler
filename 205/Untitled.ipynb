{
 "cells": [
  {
   "cell_type": "markdown",
   "id": "00623dfd",
   "metadata": {},
   "source": [
    "Peter has nine four-sided (pyramidal) dice, each with faces numbered 1, 2, 3, 4.\n",
    "\n",
    "Colin has six six-sided (cubic) dice, each with faces numbered 1, 2, 3, 4, 5, 6.\n",
    "\n",
    "\n",
    "Peter and Colin roll their dice and compare totals: the highest total wins. The result is a draw if the totals are equal.\n",
    "\n",
    "What is the probability that Pyramidal Peter beats Cubic Colin? Give your answer rounded to seven decimal places in the form 0.abcdefg."
   ]
  },
  {
   "cell_type": "code",
   "execution_count": 4,
   "id": "f7c8be6e",
   "metadata": {},
   "outputs": [
    {
     "data": {
      "text/plain": [
       "22.5"
      ]
     },
     "execution_count": 4,
     "metadata": {},
     "output_type": "execute_result"
    }
   ],
   "source": [
    "peter_num = 9\n",
    "peter_die = [1, 2, 3, 4]\n",
    "\n",
    "peter_min = peter_num * peter_die[0]\n",
    "peter_max = peter_num * peter_die[-1]\n",
    "\n",
    "peter_avg = (peter_min + peter_max) / 2\n",
    "\n",
    "peter_avg"
   ]
  },
  {
   "cell_type": "code",
   "execution_count": 3,
   "id": "4094b269",
   "metadata": {},
   "outputs": [
    {
     "name": "stdout",
     "output_type": "stream",
     "text": [
      "{9: 1, 10: 9, 11: 45, 12: 165, 13: 486, 14: 1206, 15: 2598, 16: 4950, 17: 8451, 18: 13051, 19: 18351, 20: 23607, 21: 27876, 22: 30276, 23: 30276, 24: 27876, 25: 23607, 26: 18351, 27: 13051, 28: 8451, 29: 4950, 30: 2598, 31: 1206, 32: 486, 33: 165, 34: 45, 35: 9, 36: 1}\n",
      "262144\n"
     ]
    }
   ],
   "source": [
    "import itertools\n",
    "\n",
    "total_peter = 0\n",
    "peter_dict = {k: 0 for k in range(peter_min, peter_max+1)}\n",
    "for roll in itertools.product(range(1, 4+1), repeat=9):\n",
    "    peter_dict[sum(roll)] += 1\n",
    "    total_peter += 1\n",
    "    \n",
    "print(peter_dict)\n",
    "print(total_peter)"
   ]
  },
  {
   "cell_type": "code",
   "execution_count": 5,
   "id": "2d8aa48e",
   "metadata": {},
   "outputs": [
    {
     "data": {
      "text/plain": [
       "21.0"
      ]
     },
     "execution_count": 5,
     "metadata": {},
     "output_type": "execute_result"
    }
   ],
   "source": [
    "colin_num = 6\n",
    "colin_die = [1, 2, 3, 4, 5, 6]\n",
    "\n",
    "colin_min = colin_num * colin_die[0]\n",
    "colin_max = colin_num * colin_die[-1]\n",
    "\n",
    "colin_avg = (colin_min + colin_max) / 2\n",
    "\n",
    "colin_avg"
   ]
  },
  {
   "cell_type": "code",
   "execution_count": 6,
   "id": "a0d91a48",
   "metadata": {},
   "outputs": [
    {
     "name": "stdout",
     "output_type": "stream",
     "text": [
      "{6: 1, 7: 6, 8: 21, 9: 56, 10: 126, 11: 252, 12: 456, 13: 756, 14: 1161, 15: 1666, 16: 2247, 17: 2856, 18: 3431, 19: 3906, 20: 4221, 21: 4332, 22: 4221, 23: 3906, 24: 3431, 25: 2856, 26: 2247, 27: 1666, 28: 1161, 29: 756, 30: 456, 31: 252, 32: 126, 33: 56, 34: 21, 35: 6, 36: 1}\n",
      "46656\n"
     ]
    }
   ],
   "source": [
    "total_colin = 0\n",
    "colin_dict = {k: 0 for k in range(colin_min, colin_max + 1)}\n",
    "for roll in itertools.product(colin_die, repeat=colin_num):\n",
    "    colin_dict[sum(roll)] += 1\n",
    "    total_colin += 1\n",
    "    \n",
    "print(colin_dict)\n",
    "print(total_colin)"
   ]
  },
  {
   "cell_type": "code",
   "execution_count": 7,
   "id": "0e811b85",
   "metadata": {},
   "outputs": [],
   "source": [
    "import random"
   ]
  },
  {
   "cell_type": "code",
   "execution_count": 13,
   "id": "1057433b",
   "metadata": {},
   "outputs": [],
   "source": [
    "# monte carlo to get an approximate answer to see if we are in the ball park\n",
    "\n",
    "def monte_carlo(sims):\n",
    "    \n",
    "    win_peter = 0\n",
    "    win_colin = 0\n",
    "    tie = 0\n",
    "    \n",
    "    num_die_peter = 9\n",
    "    num_die_colin = 6\n",
    "    \n",
    "    for _ in range(sims):\n",
    "        \n",
    "        peter_total = 0\n",
    "        colin_total = 0\n",
    "        \n",
    "        for p in range(num_die_peter):\n",
    "            peter_total += random.randint(1, 4)\n",
    "            \n",
    "        for c in range(num_die_colin):\n",
    "            colin_total += random.randint(1, 6)\n",
    "            \n",
    "        # determine result\n",
    "        if peter_total > colin_total:\n",
    "            win_peter += 1\n",
    "        elif colin_total > peter_total:\n",
    "            win_colin += 1\n",
    "        elif colin_total == peter_total:\n",
    "            tie += 1\n",
    "        else:\n",
    "            print(\"Problem.\")\n",
    "            print(peter_total, colin_total)\n",
    "            print()\n",
    "            \n",
    "    return win_peter, win_colin, tie, win_peter + win_colin + tie\n",
    "    "
   ]
  },
  {
   "cell_type": "code",
   "execution_count": 14,
   "id": "11bff23f",
   "metadata": {},
   "outputs": [
    {
     "data": {
      "text/plain": [
       "0.5732918"
      ]
     },
     "execution_count": 14,
     "metadata": {},
     "output_type": "execute_result"
    }
   ],
   "source": [
    "win_peter, win_colin, tie, total = monte_carlo(10_000_000)\n",
    "\n",
    "win_peter / total"
   ]
  },
  {
   "cell_type": "code",
   "execution_count": 16,
   "id": "d84aa4a8",
   "metadata": {},
   "outputs": [
    {
     "data": {
      "text/plain": [
       "0.0707056"
      ]
     },
     "execution_count": 16,
     "metadata": {},
     "output_type": "execute_result"
    }
   ],
   "source": [
    "tie / total"
   ]
  },
  {
   "cell_type": "code",
   "execution_count": 19,
   "id": "e36e83fe",
   "metadata": {},
   "outputs": [],
   "source": [
    "pp_win_dict = {k: 0 for k in peter_dict.keys()}"
   ]
  },
  {
   "cell_type": "code",
   "execution_count": 24,
   "id": "8d1af361",
   "metadata": {},
   "outputs": [
    {
     "data": {
      "text/plain": [
       "{9: 28,\n",
       " 10: 84,\n",
       " 11: 210,\n",
       " 12: 462,\n",
       " 13: 918,\n",
       " 14: 1674,\n",
       " 15: 2835,\n",
       " 16: 4501,\n",
       " 17: 6748,\n",
       " 18: 9604,\n",
       " 19: 13035,\n",
       " 20: 16941,\n",
       " 21: 21162,\n",
       " 22: 25494,\n",
       " 23: 29715,\n",
       " 24: 33621,\n",
       " 25: 37052,\n",
       " 26: 39908,\n",
       " 27: 42155,\n",
       " 28: 43821,\n",
       " 29: 44982,\n",
       " 30: 45738,\n",
       " 31: 46194,\n",
       " 32: 46446,\n",
       " 33: 46572,\n",
       " 34: 46628,\n",
       " 35: 46649,\n",
       " 36: 46655}"
      ]
     },
     "execution_count": 24,
     "metadata": {},
     "output_type": "execute_result"
    }
   ],
   "source": [
    "for pp_val in pp_win_dict.keys():\n",
    "    pp_win_dict[pp_val] = sum([v for k, v in colin_dict.items() if k < pp_val])\n",
    "    \n",
    "pp_win_dict"
   ]
  },
  {
   "cell_type": "code",
   "execution_count": 26,
   "id": "ed0249bc",
   "metadata": {},
   "outputs": [
    {
     "data": {
      "text/plain": [
       "{9: 28,\n",
       " 10: 756,\n",
       " 11: 9450,\n",
       " 12: 76230,\n",
       " 13: 446148,\n",
       " 14: 2018844,\n",
       " 15: 7365330,\n",
       " 16: 22279950,\n",
       " 17: 57027348,\n",
       " 18: 125341804,\n",
       " 19: 239205285,\n",
       " 20: 399926187,\n",
       " 21: 589911912,\n",
       " 22: 771856344,\n",
       " 23: 899651340,\n",
       " 24: 937218996,\n",
       " 25: 874686564,\n",
       " 26: 732351708,\n",
       " 27: 550164905,\n",
       " 28: 370331271,\n",
       " 29: 222660900,\n",
       " 30: 118827324,\n",
       " 31: 55709964,\n",
       " 32: 22572756,\n",
       " 33: 7684380,\n",
       " 34: 2098260,\n",
       " 35: 419841,\n",
       " 36: 46655}"
      ]
     },
     "execution_count": 26,
     "metadata": {},
     "output_type": "execute_result"
    }
   ],
   "source": [
    "pp_wins = {k: pp_win_dict[k] * peter_dict[k] for k in peter_dict}\n",
    "\n",
    "pp_wins"
   ]
  },
  {
   "cell_type": "code",
   "execution_count": 27,
   "id": "39b974e2",
   "metadata": {},
   "outputs": [
    {
     "data": {
      "text/plain": [
       "{9: 2.2893416374635633e-09,\n",
       " 10: 6.18122242115162e-08,\n",
       " 11: 7.726528026439526e-07,\n",
       " 12: 6.23273260799455e-06,\n",
       " 13: 3.647804260253906e-05,\n",
       " 14: 0.00016506512959798178,\n",
       " 15: 0.0006022055943806967,\n",
       " 16: 0.0018216577577002254,\n",
       " 17: 0.004662681508947302,\n",
       " 18: 0.010248221814714178,\n",
       " 19: 0.01955795067327994,\n",
       " 20: 0.0326988454218264,\n",
       " 21: 0.04823249652061933,\n",
       " 22: 0.06310867380212855,\n",
       " 23: 0.07355747399506746,\n",
       " 24: 0.0766290882487356,\n",
       " 25: 0.07151629895339777,\n",
       " 26: 0.05987868779971276,\n",
       " 27: 0.044982693731703056,\n",
       " 28: 0.030279099941253662,\n",
       " 29: 0.01820524533589681,\n",
       " 30: 0.009715583589341905,\n",
       " 31: 0.004554969293099863,\n",
       " 32: 0.0018455982208251953,\n",
       " 33: 0.0006282918247175806,\n",
       " 34: 0.00017155835657943914,\n",
       " 35: 3.432712437194071e-05,\n",
       " 36: 3.814615503423662e-06}"
      ]
     },
     "execution_count": 27,
     "metadata": {},
     "output_type": "execute_result"
    }
   ],
   "source": [
    "pp_wins = {k: v / (total_peter * total_colin) for k, v in pp_wins.items()}\n",
    "\n",
    "pp_wins"
   ]
  },
  {
   "cell_type": "code",
   "execution_count": 31,
   "id": "c4493e0d",
   "metadata": {},
   "outputs": [
    {
     "data": {
      "text/plain": [
       "0.5731441"
      ]
     },
     "execution_count": 31,
     "metadata": {},
     "output_type": "execute_result"
    }
   ],
   "source": [
    "ans = sum(pp_wins.values())\n",
    "\n",
    "ans = round(ans, 7)\n",
    "\n",
    "ans"
   ]
  }
 ],
 "metadata": {
  "kernelspec": {
   "display_name": "Python 3 (ipykernel)",
   "language": "python",
   "name": "python3"
  },
  "language_info": {
   "codemirror_mode": {
    "name": "ipython",
    "version": 3
   },
   "file_extension": ".py",
   "mimetype": "text/x-python",
   "name": "python",
   "nbconvert_exporter": "python",
   "pygments_lexer": "ipython3",
   "version": "3.11.5"
  }
 },
 "nbformat": 4,
 "nbformat_minor": 5
}
