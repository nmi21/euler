{
 "cells": [
  {
   "cell_type": "code",
   "execution_count": 1,
   "id": "6a119a92",
   "metadata": {},
   "outputs": [],
   "source": [
    "import math"
   ]
  },
  {
   "cell_type": "code",
   "execution_count": 2,
   "id": "7633f02f",
   "metadata": {},
   "outputs": [],
   "source": [
    "def sieve_of_eratosthenes(limit):\n",
    "    sieve = [True] * (limit + 1)\n",
    "    sieve[0] = sieve[1] = False\n",
    "    \n",
    "    for i in range(2, limit+1):\n",
    "        if sieve[i]:\n",
    "            for j in range(2*i, limit+1, i):\n",
    "                sieve[j] = False\n",
    "                \n",
    "    return sieve"
   ]
  },
  {
   "cell_type": "code",
   "execution_count": 5,
   "id": "ae153483",
   "metadata": {},
   "outputs": [],
   "source": [
    "def get_primes(limit):\n",
    "    return [ind for ind, ele in enumerate(sieve_of_eratosthenes(limit)) if ele]"
   ]
  },
  {
   "cell_type": "code",
   "execution_count": 10,
   "id": "dfa4d404",
   "metadata": {},
   "outputs": [
    {
     "data": {
      "text/plain": [
       "308"
      ]
     },
     "execution_count": 10,
     "metadata": {},
     "output_type": "execute_result"
    }
   ],
   "source": [
    "lim = int(math.sqrt(94744) + 1)\n",
    "lim"
   ]
  },
  {
   "cell_type": "code",
   "execution_count": 12,
   "id": "8b10440b",
   "metadata": {},
   "outputs": [],
   "source": [
    "primes = get_primes(lim)"
   ]
  },
  {
   "cell_type": "code",
   "execution_count": 14,
   "id": "039d9441",
   "metadata": {},
   "outputs": [
    {
     "data": {
      "text/plain": [
       "627440385707582426053018125484090845262177494922473844946893937672054123806336803541937264773086545786776463753253544153470"
      ]
     },
     "execution_count": 14,
     "metadata": {},
     "output_type": "execute_result"
    }
   ],
   "source": [
    "prod = 1\n",
    "\n",
    "for p in primes:\n",
    "    prod *= p\n",
    "    \n",
    "prod"
   ]
  }
 ],
 "metadata": {
  "kernelspec": {
   "display_name": "Python 3 (ipykernel)",
   "language": "python",
   "name": "python3"
  },
  "language_info": {
   "codemirror_mode": {
    "name": "ipython",
    "version": 3
   },
   "file_extension": ".py",
   "mimetype": "text/x-python",
   "name": "python",
   "nbconvert_exporter": "python",
   "pygments_lexer": "ipython3",
   "version": "3.11.5"
  }
 },
 "nbformat": 4,
 "nbformat_minor": 5
}
