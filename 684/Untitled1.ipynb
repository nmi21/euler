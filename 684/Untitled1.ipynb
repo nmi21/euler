{
 "cells": [
  {
   "cell_type": "markdown",
   "id": "58af9049",
   "metadata": {},
   "source": [
    "https://projecteuler.net/problem=684"
   ]
  },
  {
   "cell_type": "code",
   "execution_count": 1,
   "id": "7b983d1e",
   "metadata": {},
   "outputs": [],
   "source": [
    "import math\n",
    "\n",
    "mod_num = 1_000_000_007"
   ]
  },
  {
   "cell_type": "code",
   "execution_count": 2,
   "id": "a15df8cd",
   "metadata": {},
   "outputs": [
    {
     "data": {
      "text/plain": [
       "2880067194370816120"
      ]
     },
     "execution_count": 2,
     "metadata": {},
     "output_type": "execute_result"
    }
   ],
   "source": [
    "fibs = [0, 1]\n",
    "\n",
    "while len(fibs) <= 90:\n",
    "    fibs.append(fibs[-1] + fibs[-2])\n",
    "\n",
    "fibs[90]"
   ]
  },
  {
   "cell_type": "code",
   "execution_count": 3,
   "id": "bdec4c06",
   "metadata": {},
   "outputs": [],
   "source": [
    "def breakdown(n):\n",
    "    # determine integer quotient\n",
    "    q = n // 9\n",
    "    # remainder\n",
    "    r = n % 9\n",
    "    \n",
    "    return q, r"
   ]
  },
  {
   "cell_type": "code",
   "execution_count": 5,
   "id": "68d4e8dd",
   "metadata": {},
   "outputs": [],
   "source": [
    "def s(n):\n",
    "    q, r = breakdown(n)\n",
    "    \n",
    "    return (r+1)*(10**(q)) - 1"
   ]
  },
  {
   "cell_type": "code",
   "execution_count": 6,
   "id": "2d1b5b81",
   "metadata": {},
   "outputs": [],
   "source": [
    "def S_basic(k):\n",
    "    res = 0\n",
    "    for n in range(1, k+1):\n",
    "        res += s(n)\n",
    "    return res"
   ]
  },
  {
   "cell_type": "code",
   "execution_count": 7,
   "id": "950350d0",
   "metadata": {},
   "outputs": [
    {
     "name": "stdout",
     "output_type": "stream",
     "text": [
      "s(1)=1\n",
      "s(2)=2\n",
      "s(3)=3\n",
      "s(4)=4\n",
      "s(5)=5\n",
      "s(6)=6\n",
      "s(7)=7\n",
      "s(8)=8\n",
      "s(9)=9\n",
      "s(10)=19\n",
      "s(11)=29\n",
      "s(12)=39\n",
      "s(13)=49\n",
      "s(14)=59\n",
      "s(15)=69\n",
      "s(16)=79\n",
      "s(17)=89\n",
      "s(18)=99\n",
      "s(19)=199\n",
      "s(20)=299\n",
      "s(21)=399\n",
      "s(22)=499\n",
      "s(23)=599\n",
      "s(24)=699\n",
      "s(25)=799\n",
      "s(26)=899\n",
      "s(27)=999\n",
      "s(28)=1999\n",
      "s(29)=2999\n",
      "s(30)=3999\n"
     ]
    }
   ],
   "source": [
    "for n in range(1, 30+1):\n",
    "    print(f\"s({n})={s(n)}\")"
   ]
  },
  {
   "cell_type": "markdown",
   "id": "7099f8bc",
   "metadata": {},
   "source": [
    "The interesting thing to note here is that there is a pattern mod 9.\n",
    "\n",
    "If we re-run this and add a space between sections of 9, an interesting pattern emerges."
   ]
  },
  {
   "cell_type": "code",
   "execution_count": 8,
   "id": "1c7e6579",
   "metadata": {},
   "outputs": [
    {
     "name": "stdout",
     "output_type": "stream",
     "text": [
      "q=0\n",
      "s(1)=1; r=1\n",
      "s(2)=2; r=2\n",
      "s(3)=3; r=3\n",
      "s(4)=4; r=4\n",
      "s(5)=5; r=5\n",
      "s(6)=6; r=6\n",
      "s(7)=7; r=7\n",
      "s(8)=8; r=8\n",
      "s(9)=9; r=0\n",
      "\n",
      "q=1\n",
      "s(10)=19; r=1\n",
      "s(11)=29; r=2\n",
      "s(12)=39; r=3\n",
      "s(13)=49; r=4\n",
      "s(14)=59; r=5\n",
      "s(15)=69; r=6\n",
      "s(16)=79; r=7\n",
      "s(17)=89; r=8\n",
      "s(18)=99; r=0\n",
      "\n",
      "q=2\n",
      "s(19)=199; r=1\n",
      "s(20)=299; r=2\n",
      "s(21)=399; r=3\n",
      "s(22)=499; r=4\n",
      "s(23)=599; r=5\n",
      "s(24)=699; r=6\n",
      "s(25)=799; r=7\n",
      "s(26)=899; r=8\n",
      "s(27)=999; r=0\n",
      "\n",
      "q=3\n",
      "s(28)=1999; r=1\n",
      "s(29)=2999; r=2\n",
      "s(30)=3999; r=3\n"
     ]
    }
   ],
   "source": [
    "for n in range(1, 31):\n",
    "    q, r = breakdown(n)\n",
    "    if n % 9 == 1:\n",
    "        print(f\"{q=}\")\n",
    "    print(f\"s({n})={s(n)}; {r=}\")\n",
    "    if n % 9 == 0:\n",
    "        print()"
   ]
  },
  {
   "cell_type": "markdown",
   "id": "923bbd83",
   "metadata": {},
   "source": [
    "We can see some natural groupings. For each value of q, the 9 subsequent s(n) values will all be less than 10**q. \n",
    "\n",
    "To get a sum, S(k) as noted in the problem, we can break this down into subsets:\n",
    "\n",
    "We can group each full group into a sum:\n",
    "sum(from i = 2 to 10) of (i * 10**q - 1)"
   ]
  },
  {
   "cell_type": "markdown",
   "id": "7b5da11c",
   "metadata": {},
   "source": [
    "More generally, we can make that a sum of sums from i = 0 to i = q-1"
   ]
  },
  {
   "cell_type": "markdown",
   "id": "e1e8e8ff",
   "metadata": {},
   "source": [
    "There will be a special case for i = q, as the sub sum will be from i = 2 to i = r+1"
   ]
  },
  {
   "cell_type": "markdown",
   "id": "943988f5",
   "metadata": {},
   "source": [
    "Let's compare different results"
   ]
  },
  {
   "cell_type": "code",
   "execution_count": 9,
   "id": "3121445d",
   "metadata": {
    "scrolled": true
   },
   "outputs": [
    {
     "name": "stdout",
     "output_type": "stream",
     "text": [
      "\n",
      "q=0\n",
      "S(0)=0; r=0\n",
      "S(1)=1; r=1\n",
      "S(2)=3; r=2\n",
      "S(3)=6; r=3\n",
      "S(4)=10; r=4\n",
      "S(5)=15; r=5\n",
      "S(6)=21; r=6\n",
      "S(7)=28; r=7\n",
      "S(8)=36; r=8\n",
      "\n",
      "q=1\n",
      "S(9)=45; r=0\n",
      "S(10)=64; r=1\n",
      "S(11)=93; r=2\n",
      "S(12)=132; r=3\n",
      "S(13)=181; r=4\n",
      "S(14)=240; r=5\n",
      "S(15)=309; r=6\n",
      "S(16)=388; r=7\n",
      "S(17)=477; r=8\n",
      "\n",
      "q=2\n",
      "S(18)=576; r=0\n",
      "S(19)=775; r=1\n",
      "S(20)=1074; r=2\n",
      "S(21)=1473; r=3\n",
      "S(22)=1972; r=4\n",
      "S(23)=2571; r=5\n",
      "S(24)=3270; r=6\n",
      "S(25)=4069; r=7\n",
      "S(26)=4968; r=8\n",
      "\n",
      "q=3\n",
      "S(27)=5967; r=0\n",
      "S(28)=7966; r=1\n",
      "S(29)=10965; r=2\n",
      "S(30)=14964; r=3\n"
     ]
    }
   ],
   "source": [
    "# First look at S_basic implementation\n",
    "\n",
    "for n in range(31):\n",
    "    q, r = breakdown(n)\n",
    "    if n % 9 == 0:\n",
    "        print()\n",
    "        print(f\"{q=}\")\n",
    "    print(f\"S({n})={S_basic(n)}; {r=}\")"
   ]
  },
  {
   "cell_type": "code",
   "execution_count": 10,
   "id": "7d6978e5",
   "metadata": {},
   "outputs": [],
   "source": [
    "def S(k):\n",
    "    q_end, r_end = breakdown(k)\n",
    "    \n",
    "    res = 0\n",
    "    for q in range(q_end):\n",
    "        for i in range(2, 10+1):\n",
    "            res += i * 10**q - 1\n",
    "    \n",
    "    for i in range(2, 1+r_end+1):\n",
    "        res += i * 10**q_end - 1\n",
    "        \n",
    "    return res"
   ]
  },
  {
   "cell_type": "code",
   "execution_count": 11,
   "id": "94c1d14a",
   "metadata": {
    "scrolled": true
   },
   "outputs": [
    {
     "name": "stdout",
     "output_type": "stream",
     "text": [
      "\n",
      "q=0\n",
      "S(0)=0; r=0\n",
      "S(1)=1; r=1\n",
      "S(2)=3; r=2\n",
      "S(3)=6; r=3\n",
      "S(4)=10; r=4\n",
      "S(5)=15; r=5\n",
      "S(6)=21; r=6\n",
      "S(7)=28; r=7\n",
      "S(8)=36; r=8\n",
      "\n",
      "q=1\n",
      "S(9)=45; r=0\n",
      "S(10)=64; r=1\n",
      "S(11)=93; r=2\n",
      "S(12)=132; r=3\n",
      "S(13)=181; r=4\n",
      "S(14)=240; r=5\n",
      "S(15)=309; r=6\n",
      "S(16)=388; r=7\n",
      "S(17)=477; r=8\n",
      "\n",
      "q=2\n",
      "S(18)=576; r=0\n",
      "S(19)=775; r=1\n",
      "S(20)=1074; r=2\n",
      "S(21)=1473; r=3\n",
      "S(22)=1972; r=4\n",
      "S(23)=2571; r=5\n",
      "S(24)=3270; r=6\n",
      "S(25)=4069; r=7\n",
      "S(26)=4968; r=8\n",
      "\n",
      "q=3\n",
      "S(27)=5967; r=0\n",
      "S(28)=7966; r=1\n",
      "S(29)=10965; r=2\n",
      "S(30)=14964; r=3\n"
     ]
    }
   ],
   "source": [
    "# Now look at S(k) implementation\n",
    "\n",
    "for n in range(31):\n",
    "    q, r = breakdown(n)\n",
    "    if n % 9 == 0:\n",
    "        print()\n",
    "        print(f\"{q=}\")\n",
    "    print(f\"S({n})={S(n)}; {r=}\")"
   ]
  },
  {
   "cell_type": "code",
   "execution_count": 12,
   "id": "d9f4f8c5",
   "metadata": {},
   "outputs": [
    {
     "name": "stdout",
     "output_type": "stream",
     "text": [
      "\n",
      "q=0\n",
      "True\n",
      "True\n",
      "True\n",
      "True\n",
      "True\n",
      "True\n",
      "True\n",
      "True\n",
      "True\n",
      "\n",
      "q=1\n",
      "True\n",
      "True\n",
      "True\n",
      "True\n",
      "True\n",
      "True\n",
      "True\n",
      "True\n",
      "True\n",
      "\n",
      "q=2\n",
      "True\n",
      "True\n",
      "True\n",
      "True\n",
      "True\n",
      "True\n",
      "True\n",
      "True\n",
      "True\n",
      "\n",
      "q=3\n",
      "True\n",
      "True\n",
      "True\n",
      "True\n"
     ]
    }
   ],
   "source": [
    "# verify that the S_basic and S functions are the same\n",
    "for n in range(31):\n",
    "    q, r = breakdown(n)\n",
    "    if n % 9 == 0:\n",
    "        print()\n",
    "        print(f\"{q=}\")\n",
    "    print(f\"{S(n) == S_basic(n)}\")"
   ]
  },
  {
   "cell_type": "markdown",
   "id": "7eff3dc1",
   "metadata": {},
   "source": [
    "If we look at the sums for up to q-1 (because they are all the same), they take the form:\n",
    "\n",
    "sum(from i = 2 to 10) {i * 10**x - 1}\n",
    "\n",
    "We can further break this down over the range:\n",
    "\n",
    "sum(i * 10**x) - sum(1)\n",
    "\n",
    "further:\n",
    "10**x * sum(i) - sum(1)\n",
    "\n",
    "over i = 2 to 10, we get:\n",
    "\n",
    "10**x * sum(i = 2 to 10)[i] - sum(i = 2 to 10)[1]\n",
    "\n",
    "10**x * (2 + 3 + 4 + 5 + 6 + 7 + 8 + 9 + 10) - 9\n",
    "\n",
    "10**x * 54 - 9"
   ]
  },
  {
   "cell_type": "markdown",
   "id": "c0b844c1",
   "metadata": {},
   "source": [
    "Then you can remove some of the constants: 54 and 9\n",
    "\n",
    "S(k) = 54 * sum{from x = 0 to q-1}(10^j) - 9*q + sum{for r+1}"
   ]
  },
  {
   "cell_type": "markdown",
   "id": "4a340dd2",
   "metadata": {},
   "source": [
    "Let's take a look at the sum portion:"
   ]
  },
  {
   "cell_type": "code",
   "execution_count": 13,
   "id": "1dc46ec1",
   "metadata": {},
   "outputs": [
    {
     "name": "stdout",
     "output_type": "stream",
     "text": [
      "0 1\n",
      "1 11\n",
      "2 111\n",
      "3 1111\n",
      "4 11111\n",
      "5 111111\n",
      "6 1111111\n",
      "7 11111111\n",
      "8 111111111\n",
      "9 1111111111\n"
     ]
    }
   ],
   "source": [
    "res = 0\n",
    "for j in range(10):\n",
    "    res += 10**j\n",
    "    print(j, res)"
   ]
  },
  {
   "cell_type": "markdown",
   "id": "8b5fcc6d",
   "metadata": {},
   "source": [
    "These are simply repunit numbers!\n",
    "\n",
    "Each repunit has a length j+1.\n",
    "\n",
    "Repunit equation:\n",
    "(10^q - 1) // 9\n",
    "\n",
    "Thus, if we substitute the repunit equation for the sum portion, we get \n",
    "\n",
    "S(k) = 54*(10^q - 1) // 9 - 9*q + sum{from i = 2 to r+1}(i * 10**q - 1)\n",
    "\n",
    "reduce...\n",
    "\n",
    "S(k) = 6*(10^q - 1) - 9*q + sum{from i = 2 to r+1}(i * 10**q - 1)\n"
   ]
  },
  {
   "cell_type": "code",
   "execution_count": 14,
   "id": "68e168c7",
   "metadata": {},
   "outputs": [],
   "source": [
    "def S_2(k, modulo=1_000_000_007):\n",
    "    q, r = breakdown(k)\n",
    "    \n",
    "    res = 6 * (10**q - 1) - 9*q\n",
    "    res %= modulo\n",
    "    for i in range(2, 1 + r + 1):\n",
    "        res += i * 10**q - 1\n",
    "        res %= modulo\n",
    "        \n",
    "    return res"
   ]
  },
  {
   "cell_type": "code",
   "execution_count": 15,
   "id": "ef8ff3bf",
   "metadata": {},
   "outputs": [
    {
     "name": "stdout",
     "output_type": "stream",
     "text": [
      "1 1 1\n",
      "2 3 3\n",
      "3 6 6\n",
      "4 10 10\n",
      "5 15 15\n",
      "6 21 21\n",
      "7 28 28\n",
      "8 36 36\n",
      "9 45 45\n",
      "10 64 64\n",
      "11 93 93\n",
      "12 132 132\n",
      "13 181 181\n",
      "14 240 240\n",
      "15 309 309\n",
      "16 388 388\n",
      "17 477 477\n",
      "18 576 576\n",
      "19 775 775\n",
      "20 1074 1074\n",
      "21 1473 1473\n",
      "22 1972 1972\n",
      "23 2571 2571\n",
      "24 3270 3270\n",
      "25 4069 4069\n",
      "26 4968 4968\n",
      "27 5967 5967\n",
      "28 7966 7966\n",
      "29 10965 10965\n",
      "30 14964 14964\n"
     ]
    }
   ],
   "source": [
    "for k in range(1, 31):\n",
    "    print(k, S(k), S_2(k))"
   ]
  },
  {
   "cell_type": "markdown",
   "id": "0b5d9cb4",
   "metadata": {},
   "source": [
    "These values match for the first 30 numbers!\n",
    "\n",
    "Now we can apply them to the Fibonacci numbers"
   ]
  },
  {
   "cell_type": "code",
   "execution_count": null,
   "id": "cab535b7",
   "metadata": {},
   "outputs": [
    {
     "name": "stdout",
     "output_type": "stream",
     "text": [
      "0 1 S_2(f)=1\n",
      "0.00012040138244628906s\n",
      "\n",
      "1 2 S_2(f)=3\n",
      "0.0001354217529296875s\n",
      "\n",
      "2 3 S_2(f)=6\n",
      "0.00014662742614746094s\n",
      "\n",
      "3 5 S_2(f)=15\n",
      "0.0001575946807861328s\n",
      "\n",
      "4 8 S_2(f)=36\n",
      "0.00016808509826660156s\n",
      "\n",
      "5 13 S_2(f)=181\n",
      "0.0001785755157470703s\n",
      "\n",
      "6 21 S_2(f)=1473\n",
      "0.00018978118896484375s\n",
      "\n",
      "7 34 S_2(f)=40960\n",
      "0.00020265579223632812s\n",
      "\n",
      "8 55 S_2(f)=7999939\n",
      "0.00021409988403320312s\n",
      "\n",
      "9 89 S_2(f)=999999562\n",
      "0.0002269744873046875s\n",
      "\n",
      "10 144 S_2(f)=579999857\n",
      "0.00023698806762695312s\n",
      "\n",
      "11 233 S_2(f)=499999593\n",
      "0.0002491474151611328s\n",
      "\n",
      "12 377 S_2(f)=4999533\n",
      "0.0002620220184326172s\n",
      "\n",
      "13 610 S_2(f)=347371750\n",
      "0.0002753734588623047s\n",
      "\n",
      "14 987 S_2(f)=624743368\n",
      "0.0002892017364501953s\n",
      "\n",
      "15 1597 S_2(f)=454779723\n",
      "0.0003027915954589844s\n",
      "\n",
      "16 2584 S_2(f)=171845680\n",
      "0.00031495094299316406s\n",
      "\n",
      "17 4181 S_2(f)=77574818\n",
      "0.0003349781036376953s\n",
      "\n",
      "18 6765 S_2(f)=337686523\n",
      "0.00036716461181640625s\n",
      "\n",
      "19 10946 S_2(f)=712848938\n",
      "0.00039577484130859375s\n",
      "\n",
      "20 17711 S_2(f)=698257996\n",
      "0.0005168914794921875s\n",
      "\n",
      "21 28657 S_2(f)=650799321\n",
      "0.0005791187286376953s\n",
      "\n",
      "22 46368 S_2(f)=307966277\n",
      "0.0006384849548339844s\n",
      "\n",
      "23 75025 S_2(f)=215522108\n",
      "0.0008783340454101562s\n",
      "\n",
      "24 121393 S_2(f)=810971768\n",
      "0.001333475112915039s\n",
      "\n",
      "25 196418 S_2(f)=476041083\n",
      "0.0027379989624023438s\n",
      "\n",
      "26 317811 S_2(f)=129154418\n",
      "0.008099555969238281s\n",
      "\n",
      "27 514229 S_2(f)=173746594\n",
      "0.02355670928955078s\n",
      "\n",
      "28 832040 S_2(f)=876815299\n",
      "0.06693267822265625s\n",
      "\n",
      "29 1346269 S_2(f)=820003290\n",
      "0.1130380630493164s\n",
      "\n",
      "30 2178309 S_2(f)=746796906\n",
      "0.18701791763305664s\n",
      "\n",
      "31 3524578 S_2(f)=593059951\n",
      "0.5045807361602783s\n",
      "\n",
      "32 5702887 S_2(f)=962624661\n",
      "0.6919012069702148s\n",
      "\n",
      "33 9227465 S_2(f)=363783616\n",
      "3.0099470615386963s\n",
      "\n",
      "34 14930352 S_2(f)=529251569\n",
      "3.507796049118042s\n",
      "\n",
      "35 24157817 S_2(f)=258362748\n",
      "12.442411184310913s\n",
      "\n",
      "36 39088169 S_2(f)=738865531\n",
      "32.76398777961731s\n",
      "\n",
      "37 63245986 S_2(f)=470270000\n",
      "71.22010922431946s\n",
      "\n"
     ]
    }
   ],
   "source": [
    "import time\n",
    "t = time.time()\n",
    "\n",
    "fibs_sub = fibs[2:90]\n",
    "\n",
    "for i in range(len(fibs_sub)):\n",
    "    f = fibs_sub[i]\n",
    "    print(i, f, f\"{S_2(f)=}\")\n",
    "    print(f\"{time.time() - t}s\")\n",
    "    print()"
   ]
  },
  {
   "cell_type": "code",
   "execution_count": 78,
   "id": "564a6ccd",
   "metadata": {},
   "outputs": [
    {
     "ename": "KeyboardInterrupt",
     "evalue": "",
     "output_type": "error",
     "traceback": [
      "\u001b[0;31m---------------------------------------------------------------------------\u001b[0m",
      "\u001b[0;31mKeyboardInterrupt\u001b[0m                         Traceback (most recent call last)",
      "Cell \u001b[0;32mIn[78], line 1\u001b[0m\n\u001b[0;32m----> 1\u001b[0m S_2(fibs[\u001b[38;5;241m90\u001b[39m])\n",
      "Cell \u001b[0;32mIn[65], line 4\u001b[0m, in \u001b[0;36mS_2\u001b[0;34m(k, modulo)\u001b[0m\n\u001b[1;32m      1\u001b[0m \u001b[38;5;28;01mdef\u001b[39;00m \u001b[38;5;21mS_2\u001b[39m(k, modulo\u001b[38;5;241m=\u001b[39m\u001b[38;5;241m1_000_000_007\u001b[39m):\n\u001b[1;32m      2\u001b[0m     q, r \u001b[38;5;241m=\u001b[39m breakdown(k)\n\u001b[0;32m----> 4\u001b[0m     res \u001b[38;5;241m=\u001b[39m \u001b[38;5;241m6\u001b[39m \u001b[38;5;241m*\u001b[39m (\u001b[38;5;241m10\u001b[39m\u001b[38;5;241m*\u001b[39m\u001b[38;5;241m*\u001b[39mq \u001b[38;5;241m-\u001b[39m \u001b[38;5;241m1\u001b[39m) \u001b[38;5;241m-\u001b[39m \u001b[38;5;241m9\u001b[39m\u001b[38;5;241m*\u001b[39mq\n\u001b[1;32m      5\u001b[0m     res \u001b[38;5;241m%\u001b[39m\u001b[38;5;241m=\u001b[39m modulo\n\u001b[1;32m      6\u001b[0m     \u001b[38;5;28;01mfor\u001b[39;00m i \u001b[38;5;129;01min\u001b[39;00m \u001b[38;5;28mrange\u001b[39m(\u001b[38;5;241m2\u001b[39m, \u001b[38;5;241m1\u001b[39m \u001b[38;5;241m+\u001b[39m r \u001b[38;5;241m+\u001b[39m \u001b[38;5;241m1\u001b[39m):\n",
      "\u001b[0;31mKeyboardInterrupt\u001b[0m: "
     ]
    }
   ],
   "source": [
    "S_2(fibs[90])"
   ]
  },
  {
   "cell_type": "code",
   "execution_count": 107,
   "id": "d830aee8",
   "metadata": {},
   "outputs": [
    {
     "name": "stdout",
     "output_type": "stream",
     "text": [
      "92448 8\n",
      "18838778\n",
      "1904485656\n",
      "876815299\n"
     ]
    }
   ],
   "source": [
    "q, r = breakdown(fibs[30])\n",
    "\n",
    "print(q, r)\n",
    "\n",
    "res = 6*(pow(10, q, mod_num) - 1) - (9*q % mod_num)\n",
    "res += (r//2) * (r*pow(10, q, mod_num))\n",
    "res += 3*pow(10, q, mod_num)\n",
    "res += -2\n",
    "res %= mod_num\n",
    "print(res)\n",
    "       \n",
    "#        + (r//2)*(r*pow(10,q,1000000007) + 3*pow(10,q,1000000007) - 2)) % 1000000007\n",
    "\n",
    "res = 6 * (pow(10, q, mod_num) - 1)\n",
    "# print(res)\n",
    "res -= 9*q % mod_num\n",
    "print(res)\n",
    "\n",
    "\n",
    "for i in range(2, r+2):\n",
    "    res += i * pow(10, q, mod_num) - 1\n",
    "    res %= mod_num\n",
    "    \n",
    "print(res)\n",
    "\n",
    "\n",
    "\n",
    "\n",
    "# def S_2(k, modulo=1_000_000_007):\n",
    "#     q, r = breakdown(k)\n",
    "    \n",
    "#     res = 6 * (10**q - 1) - 9*q\n",
    "#     res %= modulo\n",
    "#     for i in range(2, 1 + r + 1):\n",
    "#         res += i * 10**q - 1\n",
    "#         res %= modulo\n",
    "#     return res\n",
    "\n",
    "# 999999491"
   ]
  },
  {
   "cell_type": "markdown",
   "id": "999758f9",
   "metadata": {},
   "source": [
    "If we look at the second sum:\n",
    "\n",
    "sum{i = 2 to r+1}(i*10**q - 1)\n",
    "\n",
    "(2*10^q - 1) + (3*10^q - 1) + ... + (r*10^q - 1) + ((r+1)*10^q - 1)\n",
    "\n",
    "There are r+2 terms, and so we can rewrite as \n",
    "\n",
    "2*10^q + 3*10^q + ... + r*10^q + (r+1)*10^q - (r+2)"
   ]
  },
  {
   "cell_type": "code",
   "execution_count": null,
   "id": "3596074a",
   "metadata": {},
   "outputs": [],
   "source": []
  }
 ],
 "metadata": {
  "kernelspec": {
   "display_name": "Python 3 (ipykernel)",
   "language": "python",
   "name": "python3"
  },
  "language_info": {
   "codemirror_mode": {
    "name": "ipython",
    "version": 3
   },
   "file_extension": ".py",
   "mimetype": "text/x-python",
   "name": "python",
   "nbconvert_exporter": "python",
   "pygments_lexer": "ipython3",
   "version": "3.11.5"
  }
 },
 "nbformat": 4,
 "nbformat_minor": 5
}
