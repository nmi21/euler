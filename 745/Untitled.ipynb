{
 "cells": [
  {
   "cell_type": "code",
   "execution_count": 1,
   "id": "aee39b98",
   "metadata": {},
   "outputs": [],
   "source": [
    "import math\n",
    "\n",
    "mod_num = 1_000_000_007"
   ]
  },
  {
   "cell_type": "code",
   "execution_count": 2,
   "id": "f6cae9cd",
   "metadata": {},
   "outputs": [],
   "source": [
    "def sieve_builder(limit):\n",
    "    \n",
    "    sieve = [1] * (limit + 1)\n",
    "    sieve[0] = 0\n",
    "    \n",
    "    for i in range(2, int(limit ** .5) + 1):\n",
    "        for j in range(i**2, limit + 1, i**2):\n",
    "            sieve[j] = i**2\n",
    "            \n",
    "    return sieve"
   ]
  },
  {
   "cell_type": "code",
   "execution_count": 3,
   "id": "60ebb6d8",
   "metadata": {},
   "outputs": [],
   "source": [
    "def sum_of_squares(limit, mod=mod_num):\n",
    "    \n",
    "    sieve = [x % mod for x in sieve_builder(limit)]\n",
    "    \n",
    "    return sum(sieve)"
   ]
  },
  {
   "cell_type": "code",
   "execution_count": 4,
   "id": "9d71efc0",
   "metadata": {},
   "outputs": [
    {
     "data": {
      "text/plain": [
       "767"
      ]
     },
     "execution_count": 4,
     "metadata": {},
     "output_type": "execute_result"
    }
   ],
   "source": [
    "sum_of_squares(100)"
   ]
  },
  {
   "cell_type": "code",
   "execution_count": 5,
   "id": "4ea6fb56",
   "metadata": {},
   "outputs": [
    {
     "data": {
      "text/plain": [
       "424090053"
      ]
     },
     "execution_count": 5,
     "metadata": {},
     "output_type": "execute_result"
    }
   ],
   "source": [
    "pow(100, 100, 1_000_000_007)"
   ]
  }
 ],
 "metadata": {
  "kernelspec": {
   "display_name": "Python 3 (ipykernel)",
   "language": "python",
   "name": "python3"
  },
  "language_info": {
   "codemirror_mode": {
    "name": "ipython",
    "version": 3
   },
   "file_extension": ".py",
   "mimetype": "text/x-python",
   "name": "python",
   "nbconvert_exporter": "python",
   "pygments_lexer": "ipython3",
   "version": "3.11.5"
  }
 },
 "nbformat": 4,
 "nbformat_minor": 5
}
