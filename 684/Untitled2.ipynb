{
 "cells": [
  {
   "cell_type": "code",
   "execution_count": 1,
   "id": "70389be3",
   "metadata": {},
   "outputs": [],
   "source": [
    "import math"
   ]
  },
  {
   "cell_type": "code",
   "execution_count": 2,
   "id": "567916bf",
   "metadata": {},
   "outputs": [],
   "source": [
    "def s(n):\n",
    "    q = n // 9\n",
    "    r = n % 9\n",
    "    return (r+1) * 10**q - 1"
   ]
  },
  {
   "cell_type": "code",
   "execution_count": 11,
   "id": "39228247",
   "metadata": {},
   "outputs": [],
   "source": [
    "def S_1(k, m=1_000_000_007):\n",
    "    \n",
    "    q_k = k // 9\n",
    "    r_k = k % 9\n",
    "    \n",
    "    S_k = 5 * 10**q_k\n",
    "    \n",
    "    sub_sum = 0\n",
    "    for r in range(r_k + 1):\n",
    "        sub_sum += r + 1\n",
    "    sub_sum *= 10**q_k\n",
    "    S_k += sub_sum\n",
    "    \n",
    "    S_k -= k\n",
    "    \n",
    "    S_k -= 6\n",
    "    \n",
    "    return S_k"
   ]
  },
  {
   "cell_type": "code",
   "execution_count": 20,
   "id": "0b6887b9",
   "metadata": {},
   "outputs": [],
   "source": [
    "def S_2(k, m=1_000_000_007):\n",
    "    \n",
    "    q_k = k // 9\n",
    "    r_k = k % 9\n",
    "    \n",
    "    # determine S(k)\n",
    "      \n",
    "    sub_sum1 = ((5 % m) * pow(10, q_k, m)) % m\n",
    "    \n",
    "    sub_sum2 = 0\n",
    "    for r in range(r_k + 1):\n",
    "        sub_sum2 += r + 1\n",
    "    sub_sum2 = ((sub_sum2 % m) * pow(10, q_k, m)) % m\n",
    "    \n",
    "    sub_sum3 = ((k % m) + (6 % m)) % m\n",
    "    \n",
    "    S_k = ((sub_sum1 % m) + (sub_sum2 % m) - (sub_sum3 % m)) % m\n",
    "    \n",
    "    return S_k"
   ]
  },
  {
   "cell_type": "code",
   "execution_count": 24,
   "id": "343db3ce",
   "metadata": {},
   "outputs": [
    {
     "data": {
      "text/plain": [
       "241901414"
      ]
     },
     "execution_count": 24,
     "metadata": {},
     "output_type": "execute_result"
    }
   ],
   "source": [
    "S_2(2880067194370816120)"
   ]
  },
  {
   "cell_type": "code",
   "execution_count": 23,
   "id": "db14caa7",
   "metadata": {},
   "outputs": [
    {
     "data": {
      "text/plain": [
       "2880067194370816120"
      ]
     },
     "execution_count": 23,
     "metadata": {},
     "output_type": "execute_result"
    }
   ],
   "source": [
    "fibs = [0, 1]\n",
    "\n",
    "while len(fibs) <= 90:\n",
    "    fibs.append(fibs[-1] + fibs[-2])\n",
    "    \n",
    "fibs[90]"
   ]
  },
  {
   "cell_type": "code",
   "execution_count": 26,
   "id": "d0d4e77b",
   "metadata": {},
   "outputs": [],
   "source": [
    "res = []\n",
    "\n",
    "for f in range(2, 90 + 1):\n",
    "    res.append(S_2(fibs[f]))"
   ]
  },
  {
   "cell_type": "code",
   "execution_count": 30,
   "id": "14985f47",
   "metadata": {},
   "outputs": [
    {
     "data": {
      "text/plain": [
       "922058210"
      ]
     },
     "execution_count": 30,
     "metadata": {},
     "output_type": "execute_result"
    }
   ],
   "source": [
    "sum(res) % 1_000_000_007"
   ]
  }
 ],
 "metadata": {
  "kernelspec": {
   "display_name": "Python 3 (ipykernel)",
   "language": "python",
   "name": "python3"
  },
  "language_info": {
   "codemirror_mode": {
    "name": "ipython",
    "version": 3
   },
   "file_extension": ".py",
   "mimetype": "text/x-python",
   "name": "python",
   "nbconvert_exporter": "python",
   "pygments_lexer": "ipython3",
   "version": "3.11.5"
  }
 },
 "nbformat": 4,
 "nbformat_minor": 5
}
