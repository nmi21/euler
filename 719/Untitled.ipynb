{
 "cells": [
  {
   "cell_type": "markdown",
   "id": "11145c93",
   "metadata": {},
   "source": [
    "We define an S-number to be a natural number, n, that is a perfect square and its square root\n",
    "can be obtained by splitted the decimal representation of n into 2 or more numbers then adding \n",
    "the numbers.\n",
    "\n",
    "For example, 81 is an S-number be sqrt(81) = 8 + 1\n",
    "\n",
    "6724 is an S-number: sqrt(6724) = 6 + 72 + 4\n",
    "\n",
    "8281 is an S-number: sqrt(8281) = 8 + 2 + 81 = 82 + 8 + 1\n",
    "\n",
    "9801 is an S-number: sqrt(9801) = 98 + 0 + 1\n",
    "\n",
    "Further we define T(N) to be the sum of all S numbers n <= N. You are given T(10^4) = 41333.\n",
    "\n",
    "Find T(10^12)."
   ]
  },
  {
   "cell_type": "markdown",
   "id": "46cbead1",
   "metadata": {},
   "source": [
    "How many perfect squares exist <= 10**12?"
   ]
  },
  {
   "cell_type": "code",
   "execution_count": 94,
   "id": "b09385dc",
   "metadata": {},
   "outputs": [
    {
     "data": {
      "text/plain": [
       "1000000"
      ]
     },
     "execution_count": 94,
     "metadata": {},
     "output_type": "execute_result"
    }
   ],
   "source": [
    "import math\n",
    "\n",
    "perf_sq = [n**2 for n in range(1, int(math.sqrt(10**12)) + 1)]\n",
    "\n",
    "len(perf_sq)"
   ]
  },
  {
   "cell_type": "markdown",
   "id": "eec49938",
   "metadata": {},
   "source": [
    "So we have to check 1,000,000 (one million) numbers"
   ]
  },
  {
   "cell_type": "code",
   "execution_count": 95,
   "id": "d3e898d4",
   "metadata": {},
   "outputs": [],
   "source": [
    "def splitter(s):\n",
    "    # yields all ways to split a string\n",
    "    for i in range(1, len(s)):\n",
    "        start = s[0:i]\n",
    "        end = s[i:]\n",
    "        yield [start, end]\n",
    "        for split in splitter(end):\n",
    "            result = [start]\n",
    "            result.extend(split)\n",
    "            yield result"
   ]
  },
  {
   "cell_type": "code",
   "execution_count": 96,
   "id": "849a55f2",
   "metadata": {},
   "outputs": [],
   "source": [
    "def g(n, s):\n",
    "    \"\"\"\n",
    "    determine whether the integers n can be split into integers summing to exactly s\n",
    "    \n",
    "    \"\"\"\n",
    "    \n",
    "    if n <= s:\n",
    "        return n == s\n",
    "    \n",
    "    for i in range(1, len(str(n)) - 1):\n",
    "        if g(n % 10**i, s - n / (10**i)):\n",
    "            return True\n",
    "        \n",
    "    return False"
   ]
  },
  {
   "cell_type": "code",
   "execution_count": 99,
   "id": "435a0be7",
   "metadata": {},
   "outputs": [],
   "source": [
    "t = [n**2 for n in range(2, int(math.sqrt(10**4) + 1)) if g(n**2, n)]"
   ]
  },
  {
   "cell_type": "code",
   "execution_count": 102,
   "id": "a829dca7",
   "metadata": {},
   "outputs": [
    {
     "data": {
      "text/plain": [
       "False"
      ]
     },
     "execution_count": 102,
     "metadata": {},
     "output_type": "execute_result"
    }
   ],
   "source": [
    "g(81, 9)b"
   ]
  },
  {
   "cell_type": "code",
   "execution_count": 104,
   "id": "1bbd17d4",
   "metadata": {},
   "outputs": [
    {
     "name": "stdout",
     "output_type": "stream",
     "text": [
      "2\n",
      "3\n",
      "4\n",
      "5\n",
      "6\n",
      "7\n",
      "8\n",
      "9\n",
      "72\n",
      "256\n",
      "800\n",
      "2304\n",
      "6272\n",
      "16384\n",
      "41472\n",
      "5184\n",
      "30375\n",
      "157464\n",
      "750141\n",
      "3359232\n",
      "14348907\n",
      "640000\n",
      "5308416\n",
      "39337984\n",
      "268435456\n",
      "1719926784\n",
      "121500000\n",
      "1313046875\n",
      "12800000000\n",
      "115330078125\n",
      "32934190464\n",
      "440301256704\n",
      "5355700839936\n",
      "12089663946752\n",
      "193010051319183\n",
      "5777633090469888\n"
     ]
    }
   ],
   "source": [
    "primes = [2, 3, 5, 7, 11, 13, 17, 19, 23, 29]\n",
    "\n",
    "for a in range(, 10):\n",
    "    for b in range(a + 1, 10):\n",
    "        x = primes[a] ** b\n",
    "        y = b ** a\n",
    "        print(x * y)"
   ]
  }
 ],
 "metadata": {
  "kernelspec": {
   "display_name": "Python 3 (ipykernel)",
   "language": "python",
   "name": "python3"
  },
  "language_info": {
   "codemirror_mode": {
    "name": "ipython",
    "version": 3
   },
   "file_extension": ".py",
   "mimetype": "text/x-python",
   "name": "python",
   "nbconvert_exporter": "python",
   "pygments_lexer": "ipython3",
   "version": "3.11.5"
  }
 },
 "nbformat": 4,
 "nbformat_minor": 5
}
