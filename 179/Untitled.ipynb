{
 "cells": [
  {
   "cell_type": "code",
   "execution_count": 10,
   "id": "9a681db7",
   "metadata": {},
   "outputs": [],
   "source": [
    "# get all of the number of divisors in a number\n",
    "\n",
    "def prime_factorization(num):\n",
    "    \n",
    "    temp = num\n",
    "    \n",
    "    factorization = []\n",
    "    \n",
    "    i = 2\n",
    "    while temp > 1:\n",
    "        \n",
    "        # continue to add prime factors as necessary\n",
    "        while temp % i == 0:\n",
    "            factorization.append(i)\n",
    "            temp //= i\n",
    "            \n",
    "        i += 1\n",
    "        \n",
    "    return factorization       "
   ]
  },
  {
   "cell_type": "code",
   "execution_count": 12,
   "id": "155920eb",
   "metadata": {},
   "outputs": [
    {
     "data": {
      "text/plain": [
       "[2, 2, 2, 3]"
      ]
     },
     "execution_count": 12,
     "metadata": {},
     "output_type": "execute_result"
    }
   ],
   "source": [
    "prime_factorization(24)"
   ]
  },
  {
   "cell_type": "code",
   "execution_count": 15,
   "id": "574da5ef",
   "metadata": {},
   "outputs": [],
   "source": [
    "def num_divisors(num):\n",
    "    \n",
    "    factorization = prime_factorization(num)\n",
    "    \n",
    "    factor_set = set(factorization)\n",
    "    \n",
    "    prod = 1\n",
    "    for factor in factor_set:\n",
    "        prod *= 1 + factorization.count(factor)\n",
    "        \n",
    "    return prod"
   ]
  },
  {
   "cell_type": "code",
   "execution_count": 16,
   "id": "d0bd13c3",
   "metadata": {},
   "outputs": [
    {
     "data": {
      "text/plain": [
       "8"
      ]
     },
     "execution_count": 16,
     "metadata": {},
     "output_type": "execute_result"
    }
   ],
   "source": [
    "num_divisors(24)"
   ]
  },
  {
   "cell_type": "code",
   "execution_count": null,
   "id": "ed71d260",
   "metadata": {
    "scrolled": true
   },
   "outputs": [],
   "source": [
    "divs = [num_divisors(i) for i in range(2, 10_000_000)]\n",
    "\n",
    "divs[-10:]"
   ]
  }
 ],
 "metadata": {
  "kernelspec": {
   "display_name": "Python 3 (ipykernel)",
   "language": "python",
   "name": "python3"
  },
  "language_info": {
   "codemirror_mode": {
    "name": "ipython",
    "version": 3
   },
   "file_extension": ".py",
   "mimetype": "text/x-python",
   "name": "python",
   "nbconvert_exporter": "python",
   "pygments_lexer": "ipython3",
   "version": "3.11.5"
  }
 },
 "nbformat": 4,
 "nbformat_minor": 5
}
