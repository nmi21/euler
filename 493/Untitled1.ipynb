{
 "cells": [
  {
   "cell_type": "code",
   "execution_count": 36,
   "id": "e71e08f1",
   "metadata": {},
   "outputs": [],
   "source": [
    "import random\n",
    "import math"
   ]
  },
  {
   "cell_type": "code",
   "execution_count": 4,
   "id": "3a55993d",
   "metadata": {},
   "outputs": [],
   "source": [
    "def monte_carlo(sims):\n",
    "    \n",
    "    counter = 0\n",
    "    \n",
    "    for _ in range(sims):\n",
    "        urn = [x // 10 for x in range(70)]\n",
    "        selected = []\n",
    "        \n",
    "        for i in range(20):\n",
    "            ball = random.choice(urn)\n",
    "            urn.remove(ball)\n",
    "            selected.append(ball)\n",
    "        \n",
    "        counter += len(set(selected))\n",
    "        \n",
    "    return counter / sims"
   ]
  },
  {
   "cell_type": "code",
   "execution_count": 34,
   "id": "38f4b1e7",
   "metadata": {},
   "outputs": [
    {
     "data": {
      "text/plain": [
       "6.818091"
      ]
     },
     "execution_count": 34,
     "metadata": {},
     "output_type": "execute_result"
    }
   ],
   "source": [
    "monte_carlo(1_000_000)"
   ]
  },
  {
   "cell_type": "code",
   "execution_count": 38,
   "id": "e11bb9b7",
   "metadata": {},
   "outputs": [
    {
     "data": {
      "text/plain": [
       "0.9741059717171088"
      ]
     },
     "execution_count": 38,
     "metadata": {},
     "output_type": "execute_result"
    }
   ],
   "source": [
    "P_B = 1 - math.comb(60, 20) / math.comb(70, 20)\n",
    "P_not_B = 1 - P_B\n",
    "\n",
    "P_B"
   ]
  },
  {
   "cell_type": "code",
   "execution_count": 43,
   "id": "e5845a9d",
   "metadata": {},
   "outputs": [
    {
     "data": {
      "text/plain": [
       "0.012349505266648795"
      ]
     },
     "execution_count": 43,
     "metadata": {},
     "output_type": "execute_result"
    }
   ],
   "source": []
  }
 ],
 "metadata": {
  "kernelspec": {
   "display_name": "Python 3 (ipykernel)",
   "language": "python",
   "name": "python3"
  },
  "language_info": {
   "codemirror_mode": {
    "name": "ipython",
    "version": 3
   },
   "file_extension": ".py",
   "mimetype": "text/x-python",
   "name": "python",
   "nbconvert_exporter": "python",
   "pygments_lexer": "ipython3",
   "version": "3.11.5"
  }
 },
 "nbformat": 4,
 "nbformat_minor": 5
}
