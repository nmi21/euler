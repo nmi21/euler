{
 "cells": [
  {
   "cell_type": "markdown",
   "id": "d3e11053",
   "metadata": {},
   "source": [
    "An integer of the form (p^q)*(q^p) with prime numbers p != q is called a \"hybrid integer\".\n",
    "\n",
    "We define C(n) to be the number of hybrid integers less than or equal to n.\n",
    "\n",
    "You are given C(800) = 2 and C(800^800) = 10790.\n",
    "\n",
    "Find C(800800^800800)."
   ]
  },
  {
   "cell_type": "code",
   "execution_count": 49,
   "id": "0740aa79",
   "metadata": {},
   "outputs": [],
   "source": [
    "import math"
   ]
  },
  {
   "cell_type": "code",
   "execution_count": 50,
   "id": "b480ec59",
   "metadata": {},
   "outputs": [],
   "source": [
    "def sieve_of_eratosthenes(lim):\n",
    "    \n",
    "    sieve = [True] * (lim + 1)\n",
    "    sieve[0] = sieve[1] = False\n",
    "    \n",
    "    for i in range(4, lim + 1, 2):\n",
    "        sieve[i] = False\n",
    "        \n",
    "    for i in range(3, lim + 1, 2):\n",
    "        if sieve[i]:\n",
    "            for j in range(3 * i, lim, 2 * i):\n",
    "                sieve[j] = False\n",
    "                \n",
    "    return sieve"
   ]
  },
  {
   "cell_type": "code",
   "execution_count": 51,
   "id": "921c4a1f",
   "metadata": {},
   "outputs": [],
   "source": [
    "def get_primes(lim):\n",
    "    \n",
    "    return [ind for ind, ele in enumerate(sieve_of_eratosthenes(lim)) if ele]"
   ]
  },
  {
   "cell_type": "code",
   "execution_count": 52,
   "id": "61a57440",
   "metadata": {},
   "outputs": [],
   "source": [
    "def get_max_q(r, s):\n",
    "      \n",
    "    log_2_r = math.log2(r)\n",
    "    \n",
    "    q = 2\n",
    "\n",
    "    while 2*q + 2*math.log2(2*q) <= s*log_2_r:\n",
    "        q *= 2\n",
    "    \n",
    "    \n",
    "    while (q+1) + 2*math.log2(q+1) <= s * log_2_r:\n",
    "        q += 1\n",
    "    \n",
    "    return q"
   ]
  },
  {
   "cell_type": "code",
   "execution_count": 56,
   "id": "cc27cc3e",
   "metadata": {},
   "outputs": [],
   "source": [
    "r = 800\n",
    "s = 800"
   ]
  },
  {
   "cell_type": "code",
   "execution_count": 57,
   "id": "5d453563",
   "metadata": {},
   "outputs": [
    {
     "data": {
      "text/plain": [
       "7689"
      ]
     },
     "execution_count": 57,
     "metadata": {},
     "output_type": "execute_result"
    }
   ],
   "source": [
    "get_max_q(r, s)"
   ]
  },
  {
   "cell_type": "code",
   "execution_count": 58,
   "id": "4e7c668f",
   "metadata": {},
   "outputs": [],
   "source": [
    "primes = get_primes(get_max_q(r, s))\n",
    "primes_log_base_2 = [math.log2(x) for x in primes]"
   ]
  },
  {
   "cell_type": "code",
   "execution_count": 59,
   "id": "a5208feb",
   "metadata": {},
   "outputs": [],
   "source": [
    "def check_hybrid_ints(p, q, r, s=1):\n",
    "    \"\"\"\n",
    "    check if p^q * q^p <= r^s\n",
    "    \"\"\"\n",
    "    \n",
    "    # log(p^q * q^p) <= log(r^s)\n",
    "    # log(p^q) + log(q^p) <= s*log(r)\n",
    "    # q*log(p) + p*log(q) <= s*log(r)\n",
    "    \n",
    "    return q*math.log2(p) + p*math.log2(q) < s*math.log2(r)"
   ]
  },
  {
   "cell_type": "code",
   "execution_count": 39,
   "id": "be99ec8e",
   "metadata": {},
   "outputs": [],
   "source": [
    "def checker_800(p_ind, q_ind, s_log2_r):\n",
    "    \"\"\"\n",
    "    p_ind == index for prime p\n",
    "    q_ind == index for prime q\n",
    "    s_log2_r = s * math.log2(r) as calculated externally\n",
    "    \"\"\"\n",
    "    \n",
    "    return primes[q_ind]*primes_log_base_2[p_ind] + primes[p_ind]*primes_log_base_2[q_ind] < s_log2_r"
   ]
  },
  {
   "cell_type": "code",
   "execution_count": null,
   "id": "e3cd5e83",
   "metadata": {},
   "outputs": [],
   "source": [
    "checker_800()"
   ]
  },
  {
   "cell_type": "code",
   "execution_count": 55,
   "id": "fe1bdd2e",
   "metadata": {
    "scrolled": false
   },
   "outputs": [
    {
     "data": {
      "text/plain": [
       "2"
      ]
     },
     "execution_count": 55,
     "metadata": {},
     "output_type": "execute_result"
    }
   ],
   "source": [
    "count = 0\n",
    "\n",
    "s_log2_r = s * math.log2(r)\n",
    "\n",
    "for p in range(len(primes)):\n",
    "    for q in range(len(primes) - 1, p, -1):\n",
    "        if checker_800(p, q, s_log2_r):\n",
    "            count += q - p\n",
    "            break\n",
    "\n",
    "count"
   ]
  }
 ],
 "metadata": {
  "kernelspec": {
   "display_name": "Python 3 (ipykernel)",
   "language": "python",
   "name": "python3"
  },
  "language_info": {
   "codemirror_mode": {
    "name": "ipython",
    "version": 3
   },
   "file_extension": ".py",
   "mimetype": "text/x-python",
   "name": "python",
   "nbconvert_exporter": "python",
   "pygments_lexer": "ipython3",
   "version": "3.11.5"
  }
 },
 "nbformat": 4,
 "nbformat_minor": 5
}
