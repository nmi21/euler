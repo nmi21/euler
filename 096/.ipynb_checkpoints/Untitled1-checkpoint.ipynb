{
 "cells": [
  {
   "cell_type": "code",
   "execution_count": 2,
   "id": "c3ea6d82",
   "metadata": {},
   "outputs": [
    {
     "data": {
      "text/plain": [
       "[[5, 3, 0, 0, 7, 0, 0, 0, 0],\n",
       " [6, 0, 0, 1, 9, 5, 0, 0, 0],\n",
       " [0, 9, 8, 0, 0, 0, 0, 6, 0],\n",
       " [8, 0, 0, 0, 6, 0, 0, 0, 3],\n",
       " [4, 0, 0, 8, 0, 3, 0, 0, 1],\n",
       " [7, 0, 0, 0, 2, 0, 0, 0, 6],\n",
       " [0, 6, 0, 0, 0, 0, 2, 8, 0],\n",
       " [0, 0, 0, 4, 1, 9, 0, 0, 5],\n",
       " [0, 0, 0, 0, 8, 0, 0, 7, 9]]"
      ]
     },
     "execution_count": 2,
     "metadata": {},
     "output_type": "execute_result"
    }
   ],
   "source": [
    "board = [\n",
    "    [5, 3, 0, 0, 7, 0, 0, 0, 0],\n",
    "    [6, 0, 0, 1, 9, 5, 0, 0, 0],\n",
    "    [0, 9, 8, 0, 0, 0, 0, 6, 0],\n",
    "    [8, 0, 0, 0, 6, 0, 0, 0, 3],\n",
    "    [4, 0, 0, 8, 0, 3, 0, 0, 1],\n",
    "    [7, 0, 0, 0, 2, 0, 0, 0, 6],\n",
    "    [0, 6, 0, 0, 0, 0, 2, 8, 0],\n",
    "    [0, 0, 0, 4, 1, 9, 0, 0, 5],\n",
    "    [0, 0, 0, 0, 8, 0, 0, 7, 9]\n",
    "]\n",
    "\n",
    "board"
   ]
  },
  {
   "cell_type": "code",
   "execution_count": 9,
   "id": "bb444090",
   "metadata": {},
   "outputs": [],
   "source": [
    "def is_move_valid(board, num, row, col):\n",
    "    \"\"\"\n",
    "    Check if a \"num\" entered into \"board\" at \"(row, col)\" is valid:\n",
    "    - num not in row\n",
    "    - num not in col\n",
    "    - num not in box\n",
    "    \"\"\"\n",
    "    \n",
    "    # check if valid in row\n",
    "    if num in board[row]:\n",
    "        return False\n",
    "    \n",
    "    # check if valid in col\n",
    "    if num in [r[col] for r in board]:\n",
    "        return False\n",
    "    \n",
    "    # check if valid in box (3x3 subportion)\n",
    "    start_row = row // 3\n",
    "    start_col = col // 3\n",
    "    for r in range(3):\n",
    "        for c in range(3):\n",
    "            if num == board[start_row + r][start_col + c]:\n",
    "                return False\n",
    "    \n",
    "    return True"
   ]
  },
  {
   "cell_type": "markdown",
   "id": "12cef2db",
   "metadata": {},
   "source": [
    "steps to complete:\n",
    "    - find next empty cell\n",
    "    - go across range 1-9\n",
    "    - determine if move is valid\n",
    "    - assign num to that move\n",
    "    - recursion into next step; return True if complete\n",
    "    - if it leads to an invalid solution; return val to 0 and backtrack\n"
   ]
  },
  {
   "cell_type": "code",
   "execution_count": 11,
   "id": "d4b2012d",
   "metadata": {},
   "outputs": [],
   "source": [
    "def find_empty_cell(board):\n",
    "    \"\"\"\n",
    "    Go through row by row and determine if an empty cell exists.\n",
    "    \"\"\"\n",
    "    for row in board:\n",
    "        for col in row:\n",
    "            if board[row][col] == 0:\n",
    "                return row, board\n",
    "    return None"
   ]
  },
  {
   "cell_type": "code",
   "execution_count": 12,
   "id": "e6526a7d",
   "metadata": {},
   "outputs": [],
   "source": [
    "def solve_sudoku(board):\n",
    "    \n",
    "    # find next empty cell\n",
    "    row, col = find_empty_cell(board)\n",
    "    \n",
    "    # if no empty cells, puzzle is complete!\n",
    "    if row == None:\n",
    "        return True\n",
    "    \n",
    "    # go across range 1-9\n",
    "    for n in range(1, 9+1):\n",
    "        # determine if move is valid\n",
    "        if is_move_valid(board, n, row, col):\n",
    "            \n",
    "            # assign num to the move\n",
    "            board[row][col] = n\n",
    "    \n",
    "            # recursion into the next step; return True if complete\n",
    "            if solve_sudoku(board):\n",
    "                return True\n",
    "            \n",
    "            # else it will be invalid, need to return num to 0\n",
    "            board[row][col] = 0\n",
    "    \n",
    "    # backtrack by returning False; will then reassign board[row][col] to zero\n",
    "    return False"
   ]
  },
  {
   "cell_type": "code",
   "execution_count": null,
   "id": "a555dd01",
   "metadata": {},
   "outputs": [],
   "source": []
  }
 ],
 "metadata": {
  "kernelspec": {
   "display_name": "Python 3 (ipykernel)",
   "language": "python",
   "name": "python3"
  },
  "language_info": {
   "codemirror_mode": {
    "name": "ipython",
    "version": 3
   },
   "file_extension": ".py",
   "mimetype": "text/x-python",
   "name": "python",
   "nbconvert_exporter": "python",
   "pygments_lexer": "ipython3",
   "version": "3.11.5"
  }
 },
 "nbformat": 4,
 "nbformat_minor": 5
}
