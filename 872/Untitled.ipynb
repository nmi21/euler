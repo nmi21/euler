{
 "cells": [
  {
   "cell_type": "code",
   "execution_count": 1,
   "id": "5b8e89da",
   "metadata": {},
   "outputs": [],
   "source": [
    "import math"
   ]
  },
  {
   "cell_type": "code",
   "execution_count": 25,
   "id": "9f2a105c",
   "metadata": {},
   "outputs": [
    {
     "name": "stdout",
     "output_type": "stream",
     "text": [
      "3 15 22\n",
      "2 19 41\n",
      "1 21 62\n"
     ]
    },
    {
     "data": {
      "text/plain": [
       "62"
      ]
     },
     "execution_count": 25,
     "metadata": {},
     "output_type": "execute_result"
    }
   ],
   "source": [
    "n = 17\n",
    "k = 7\n",
    "\n",
    "counter = k\n",
    "start = int(math.log2(n - k))\n",
    "prev = k\n",
    "for i in range(start, 0, -1):\n",
    "    prev += 2**i\n",
    "    counter += prev\n",
    "    print(i, prev, counter)\n",
    "    \n",
    "counter"
   ]
  },
  {
   "cell_type": "markdown",
   "id": "07877e17",
   "metadata": {},
   "source": [
    "for each one, calculate the differential to the k value"
   ]
  },
  {
   "cell_type": "code",
   "execution_count": 50,
   "id": "ef1d7bba",
   "metadata": {},
   "outputs": [
    {
     "data": {
      "text/plain": [
       "30"
      ]
     },
     "execution_count": 50,
     "metadata": {},
     "output_type": "execute_result"
    }
   ],
   "source": [
    "n = 17\n",
    "k = 13\n",
    "\n",
    "counter = k\n",
    "\n",
    "temp = k\n",
    "while temp < n:\n",
    "    exp = int(math.log2(n - temp))\n",
    "    temp += 2**exp\n",
    "    counter += temp\n",
    "\n",
    "counter"
   ]
  },
  {
   "cell_type": "code",
   "execution_count": 51,
   "id": "0011cc85",
   "metadata": {},
   "outputs": [
    {
     "data": {
      "text/plain": [
       "35"
      ]
     },
     "execution_count": 51,
     "metadata": {},
     "output_type": "execute_result"
    }
   ],
   "source": [
    "exp = int(math.log2(n - k)) + 1\n",
    "temp = k\n",
    "while temp - 2**exp > 0:\n",
    "    temp -= 2**exp\n",
    "    counter += temp\n",
    "    exp += 1\n",
    "    \n",
    "counter"
   ]
  },
  {
   "cell_type": "code",
   "execution_count": 56,
   "id": "77038a33",
   "metadata": {},
   "outputs": [],
   "source": [
    "def f(n, k):\n",
    "    \n",
    "    counter = k\n",
    "    \n",
    "    if n - k % 2 == 1:\n",
    "        counter += n\n",
    "        n -= 1\n",
    "\n",
    "    temp = k\n",
    "    while temp < n:\n",
    "        exp = int(math.log2(n - temp))\n",
    "        temp += 2**exp\n",
    "        counter += temp\n",
    "    \n",
    "    exp = int(math.log2(n - k)) + 1\n",
    "    temp = k\n",
    "    while temp - 2**exp > 0:\n",
    "        temp -= 2**exp\n",
    "        counter += temp\n",
    "        exp += 1\n",
    "\n",
    "    return counter"
   ]
  },
  {
   "cell_type": "code",
   "execution_count": 78,
   "id": "55a1baca",
   "metadata": {},
   "outputs": [
    {
     "data": {
      "text/plain": [
       "2903144925319290239"
      ]
     },
     "execution_count": 78,
     "metadata": {},
     "output_type": "execute_result"
    }
   ],
   "source": [
    "n = 10**17\n",
    "k = 9**17\n",
    "\n",
    "f(n, k)"
   ]
  },
  {
   "cell_type": "code",
   "execution_count": null,
   "id": "1843381a",
   "metadata": {},
   "outputs": [],
   "source": []
  }
 ],
 "metadata": {
  "kernelspec": {
   "display_name": "Python 3 (ipykernel)",
   "language": "python",
   "name": "python3"
  },
  "language_info": {
   "codemirror_mode": {
    "name": "ipython",
    "version": 3
   },
   "file_extension": ".py",
   "mimetype": "text/x-python",
   "name": "python",
   "nbconvert_exporter": "python",
   "pygments_lexer": "ipython3",
   "version": "3.11.5"
  }
 },
 "nbformat": 4,
 "nbformat_minor": 5
}
