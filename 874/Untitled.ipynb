{
 "cells": [
  {
   "cell_type": "code",
   "execution_count": 2,
   "id": "c61a8b0b",
   "metadata": {},
   "outputs": [],
   "source": [
    "import math"
   ]
  },
  {
   "cell_type": "code",
   "execution_count": 3,
   "id": "22e6060e",
   "metadata": {},
   "outputs": [],
   "source": [
    "def sieve_of_eratosthenes(limit):\n",
    "    sieve = [True] * (limit + 1)\n",
    "    sieve[0] = sieve[1] = False\n",
    "    \n",
    "    for i in range(4, limit + 1, 2):\n",
    "        sieve[i] = False\n",
    "        \n",
    "    for i in range(3, limit + 1, 2):\n",
    "        if sieve[i]:\n",
    "            for j in range(3*i, limit + 1, 2*i):\n",
    "                sieve[j] = False\n",
    "                \n",
    "    return sieve"
   ]
  },
  {
   "cell_type": "code",
   "execution_count": 6,
   "id": "e751e899",
   "metadata": {},
   "outputs": [],
   "source": [
    "def get_primes(limit):\n",
    "    return [ind for ind, ele in enumerate(sieve_of_eratosthenes(limit)) if ele]"
   ]
  },
  {
   "cell_type": "code",
   "execution_count": 11,
   "id": "75cc4042",
   "metadata": {},
   "outputs": [],
   "source": [
    "p = get_primes(100)"
   ]
  },
  {
   "cell_type": "code",
   "execution_count": 12,
   "id": "1df09afb",
   "metadata": {},
   "outputs": [],
   "source": [
    "def prime_score(int_list):\n",
    "    res = 0\n",
    "    for l in int_list:\n",
    "        res += p[l]\n",
    "        \n",
    "    return res"
   ]
  },
  {
   "cell_type": "code",
   "execution_count": 13,
   "id": "07b1ccbc",
   "metadata": {},
   "outputs": [
    {
     "data": {
      "text/plain": [
       "5"
      ]
     },
     "execution_count": 13,
     "metadata": {},
     "output_type": "execute_result"
    }
   ],
   "source": [
    "prime_score([0, 1])"
   ]
  },
  {
   "cell_type": "code",
   "execution_count": null,
   "id": "5fb8d200",
   "metadata": {},
   "outputs": [],
   "source": [
    "def M(k, n):\n",
    "    "
   ]
  }
 ],
 "metadata": {
  "kernelspec": {
   "display_name": "Python 3 (ipykernel)",
   "language": "python",
   "name": "python3"
  },
  "language_info": {
   "codemirror_mode": {
    "name": "ipython",
    "version": 3
   },
   "file_extension": ".py",
   "mimetype": "text/x-python",
   "name": "python",
   "nbconvert_exporter": "python",
   "pygments_lexer": "ipython3",
   "version": "3.11.5"
  }
 },
 "nbformat": 4,
 "nbformat_minor": 5
}
