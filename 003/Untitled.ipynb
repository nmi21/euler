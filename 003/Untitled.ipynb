{
 "cells": [
  {
   "cell_type": "code",
   "execution_count": 1,
   "id": "357707b6",
   "metadata": {},
   "outputs": [],
   "source": [
    "target = 600851475143"
   ]
  },
  {
   "cell_type": "code",
   "execution_count": 8,
   "id": "1f35c51d",
   "metadata": {},
   "outputs": [],
   "source": [
    "def get_prime_factors(num):\n",
    "    factors = []\n",
    "    for i in range(2, int(num**.5) + 1):\n",
    "        if num % i == 0:\n",
    "            factors.append(i)\n",
    "            while num % i == 0:\n",
    "                num = num // i\n",
    "    return factors"
   ]
  },
  {
   "cell_type": "code",
   "execution_count": 11,
   "id": "c2c83c95",
   "metadata": {},
   "outputs": [
    {
     "data": {
      "text/plain": [
       "6857"
      ]
     },
     "execution_count": 11,
     "metadata": {},
     "output_type": "execute_result"
    }
   ],
   "source": [
    "get_factors(target)[-1]"
   ]
  }
 ],
 "metadata": {
  "kernelspec": {
   "display_name": "Python 3 (ipykernel)",
   "language": "python",
   "name": "python3"
  },
  "language_info": {
   "codemirror_mode": {
    "name": "ipython",
    "version": 3
   },
   "file_extension": ".py",
   "mimetype": "text/x-python",
   "name": "python",
   "nbconvert_exporter": "python",
   "pygments_lexer": "ipython3",
   "version": "3.11.5"
  }
 },
 "nbformat": 4,
 "nbformat_minor": 5
}
