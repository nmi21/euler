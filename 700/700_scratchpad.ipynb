{
 "cells": [
  {
   "cell_type": "code",
   "execution_count": 1,
   "id": "1be26b24",
   "metadata": {},
   "outputs": [],
   "source": [
    "import math"
   ]
  },
  {
   "cell_type": "code",
   "execution_count": 2,
   "id": "b1e035db",
   "metadata": {},
   "outputs": [],
   "source": [
    "first_coin = 1_504_170_715_041_707\n",
    "m = 4_503_599_627_370_517"
   ]
  },
  {
   "cell_type": "code",
   "execution_count": 3,
   "id": "3158759b",
   "metadata": {},
   "outputs": [],
   "source": [
    "res = first_coin\n",
    "\n",
    "last_coin = first_coin\n",
    "coin = first_coin\n",
    "# while last_coin > 1:\n",
    "#     coin += first_coin\n",
    "#     coin %= m\n",
    "#     if coin < last_coin:\n",
    "#         last_coin = coin\n",
    "#         res += coin\n",
    "#         print(f\"{coin=}\")"
   ]
  },
  {
   "cell_type": "code",
   "execution_count": 4,
   "id": "aed184ff",
   "metadata": {},
   "outputs": [],
   "source": [
    "def is_prime(n):\n",
    "    if n < 2:\n",
    "        return False\n",
    "    if n == 2:\n",
    "        return True\n",
    "    if n % 2 == 0:\n",
    "        return False\n",
    "    for i in range(3, int(n**.5) + 1, 2):\n",
    "        if n % i == 0:\n",
    "            return False\n",
    "    return True"
   ]
  },
  {
   "cell_type": "code",
   "execution_count": 5,
   "id": "062b91cb",
   "metadata": {},
   "outputs": [
    {
     "data": {
      "text/plain": [
       "True"
      ]
     },
     "execution_count": 5,
     "metadata": {},
     "output_type": "execute_result"
    }
   ],
   "source": [
    "is_prime(m)"
   ]
  },
  {
   "cell_type": "code",
   "execution_count": 6,
   "id": "47a9c7bc",
   "metadata": {},
   "outputs": [
    {
     "name": "stdout",
     "output_type": "stream",
     "text": [
      "1 5\n",
      "2 10\n",
      "3 15\n",
      "4 3\n",
      "5 8\n",
      "6 13\n",
      "7 1\n",
      "8 6\n",
      "9 11\n",
      "10 16\n",
      "11 4\n",
      "12 9\n",
      "13 14\n",
      "14 2\n",
      "15 7\n",
      "16 12\n",
      "17 0\n"
     ]
    }
   ],
   "source": [
    "a = 5\n",
    "b = 17\n",
    "\n",
    "for n in range(1, b + 1):\n",
    "    print(n, a*n % b)"
   ]
  },
  {
   "cell_type": "code",
   "execution_count": 7,
   "id": "67a0042f",
   "metadata": {},
   "outputs": [],
   "source": [
    "import math"
   ]
  },
  {
   "cell_type": "code",
   "execution_count": 8,
   "id": "ee0a1d8e",
   "metadata": {},
   "outputs": [
    {
     "name": "stdout",
     "output_type": "stream",
     "text": [
      "1 5\n",
      "4 3\n",
      "7 1\n"
     ]
    }
   ],
   "source": [
    "coins = [a]\n",
    "n = 1\n",
    "last_coin = coins[-1]\n",
    "\n",
    "print(n, last_coin)\n",
    "\n",
    "while not last_coin != 0 or last_coin != 1:\n",
    "    # find the next possible wrap around\n",
    "    n += 1 + (b - last_coin) // a\n",
    "    \n",
    "    temp = a*n % b\n",
    "    if temp < last_coin:\n",
    "        last_coin = temp\n",
    "        coins.append(temp)\n",
    "        print(n, last_coin)"
   ]
  },
  {
   "cell_type": "code",
   "execution_count": 9,
   "id": "172dd55b",
   "metadata": {},
   "outputs": [
    {
     "name": "stdout",
     "output_type": "stream",
     "text": [
      "1 1 1504170715041707\n",
      "2 3 8912517754604\n",
      "3 1518 6134356459107\n",
      "4 3033 3356195163610\n",
      "5 4548 578033868113\n",
      "6 24255 112008045068\n",
      "7 140982 94014402295\n",
      "8 257709 76020759522\n",
      "9 374436 58027116749\n",
      "10 491163 40033473976\n",
      "11 607890 22039831203\n",
      "12 724617 4046188430\n",
      "13 3739812 2237299377\n",
      "14 6755007 428410324\n",
      "15 36790230 333162567\n",
      "16 66825453 237914810\n",
      "17 96860676 142667053\n",
      "18 126895899 47419296\n"
     ]
    },
    {
     "ename": "KeyboardInterrupt",
     "evalue": "",
     "output_type": "error",
     "traceback": [
      "\u001b[0;31m---------------------------------------------------------------------------\u001b[0m",
      "\u001b[0;31mKeyboardInterrupt\u001b[0m                         Traceback (most recent call last)",
      "Cell \u001b[0;32mIn[9], line 11\u001b[0m\n\u001b[1;32m      7\u001b[0m \u001b[38;5;28;01mwhile\u001b[39;00m \u001b[38;5;129;01mnot\u001b[39;00m last_coin \u001b[38;5;241m!=\u001b[39m \u001b[38;5;241m0\u001b[39m \u001b[38;5;129;01mor\u001b[39;00m last_coin \u001b[38;5;241m!=\u001b[39m \u001b[38;5;241m1\u001b[39m:\n\u001b[1;32m      8\u001b[0m     \u001b[38;5;66;03m# find the next possible wrap around\u001b[39;00m\n\u001b[1;32m      9\u001b[0m     n \u001b[38;5;241m+\u001b[39m\u001b[38;5;241m=\u001b[39m \u001b[38;5;241m1\u001b[39m \u001b[38;5;241m+\u001b[39m (m \u001b[38;5;241m-\u001b[39m last_coin) \u001b[38;5;241m/\u001b[39m\u001b[38;5;241m/\u001b[39m first_coin\n\u001b[0;32m---> 11\u001b[0m     temp \u001b[38;5;241m=\u001b[39m first_coin\u001b[38;5;241m*\u001b[39mn \u001b[38;5;241m%\u001b[39m m\n\u001b[1;32m     12\u001b[0m     \u001b[38;5;28;01mif\u001b[39;00m temp \u001b[38;5;241m<\u001b[39m last_coin:\n\u001b[1;32m     13\u001b[0m         last_coin \u001b[38;5;241m=\u001b[39m temp\n",
      "\u001b[0;31mKeyboardInterrupt\u001b[0m: "
     ]
    }
   ],
   "source": [
    "coins = [first_coin]\n",
    "n = 1\n",
    "last_coin = coins[-1]\n",
    "\n",
    "print(1, n, last_coin)\n",
    "\n",
    "while not last_coin != 0 or last_coin != 1:\n",
    "    # find the next possible wrap around\n",
    "    n += 1 + (m - last_coin) // first_coin\n",
    "    \n",
    "    temp = first_coin*n % m\n",
    "    if temp < last_coin:\n",
    "        last_coin = temp\n",
    "        coins.append(temp)\n",
    "        print(len(coins), n, last_coin)"
   ]
  }
 ],
 "metadata": {
  "kernelspec": {
   "display_name": "Python 3 (ipykernel)",
   "language": "python",
   "name": "python3"
  },
  "language_info": {
   "codemirror_mode": {
    "name": "ipython",
    "version": 3
   },
   "file_extension": ".py",
   "mimetype": "text/x-python",
   "name": "python",
   "nbconvert_exporter": "python",
   "pygments_lexer": "ipython3",
   "version": "3.11.5"
  }
 },
 "nbformat": 4,
 "nbformat_minor": 5
}
