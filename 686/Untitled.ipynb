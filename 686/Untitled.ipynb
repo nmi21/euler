{
 "cells": [
  {
   "cell_type": "markdown",
   "id": "a266ec47",
   "metadata": {},
   "source": [
    "2^7 = 128 is the first power of two whose leading digits are \"12\".\n",
    "The next power of two whose leading digits are \"12\" is 2^80.\n",
    "\n",
    "Define p(L,n) to be the n'th-smallest value of j such that the base 10 representation of 2^j begins with the digits of L.\n",
    "\n",
    "So p(12,1) = 7 and p(12,2) = 80.\n",
    "\n",
    "You are given that p(123,45) = 12710.\n",
    "\n",
    "Find p(123,678910)."
   ]
  },
  {
   "cell_type": "markdown",
   "id": "0a880887",
   "metadata": {},
   "source": [
    "We can look at 2^7 = 128 as a test case.\n",
    "\n",
    "let j = 7\n",
    "\n",
    "there is some value, d, that the following is true:\n",
    "\n",
    "10^(d-1) < 2^j < 10^(d).\n",
    "\n",
    "So for this particular case, d = 3:\n",
    "\n",
    "10^2 < 2^7 < 10^3\n",
    "\n",
    "100 < 128 < 1000"
   ]
  },
  {
   "cell_type": "markdown",
   "id": "06c62643",
   "metadata": {},
   "source": [
    "If d represents the number of digits, we can solve for the number of digits:\n",
    "\n",
    "d = 1 + floor(j * log10(2))"
   ]
  },
  {
   "cell_type": "markdown",
   "id": "a5682129",
   "metadata": {},
   "source": [
    "We could further refine by saying that leading digits, L, are part of the equation\n",
    "\n",
    "L * 10^(-k + 1) * 10^(d-1) < 2^j\n",
    "\n",
    "Where k is the total digits in L. So for L = 12, k = 2\n",
    "\n",
    "This reduces:\n",
    "\n",
    "L * 10^(-k + 1 + d - 1) < 2^j\n",
    "\n",
    "L * 10^(d-k) < 2^j\n",
    "\n",
    "log10(L * 10^(d-k)) < log10(2^j)\n",
    "\n",
    "log10(L) + d - k < j * log10(2)\n",
    "\n",
    "L < 10^(d - k + j * log10(2))"
   ]
  },
  {
   "cell_type": "code",
   "execution_count": 3,
   "id": "46619cf2",
   "metadata": {},
   "outputs": [],
   "source": [
    "import math\n",
    "from decimal import Decimal\n",
    "\n",
    "L = 12\n",
    "k = 2\n",
    "for j in range(1, 100):\n",
    "#     print(f\"{j=}\")\n",
    "    \n",
    "    d = 1 + math.floor(j * math.log10(2))\n",
    "#     print(f\"{d=}\")\n",
    "    \n",
    "#     print(2**j)\n",
    "    \n",
    "#     print()"
   ]
  },
  {
   "cell_type": "code",
   "execution_count": 5,
   "id": "74c97d12",
   "metadata": {},
   "outputs": [],
   "source": [
    "def first_digit_2_exp_e(e):\n",
    "    r = (math.log10(2.0)*e)\n",
    "#     for i in range(2, 11):\n",
    "#         if r < math.log10(i):\n",
    "#             return i-1\n",
    "    return r\n",
    "for i in range(100):\n",
    "    n = first_digit_2_exp_e( i )\n",
    "#     print(n)"
   ]
  },
  {
   "cell_type": "code",
   "execution_count": 4,
   "id": "d050abcb",
   "metadata": {},
   "outputs": [
    {
     "data": {
      "text/plain": [
       "Decimal('1.20030202040050593126352396211586892604827880859375')"
      ]
     },
     "execution_count": 4,
     "metadata": {},
     "output_type": "execute_result"
    }
   ],
   "source": [
    "import decimal\n",
    "\n",
    "a = decimal.Decimal(1.2003020204005060060002)\n",
    "a"
   ]
  },
  {
   "cell_type": "code",
   "execution_count": 12,
   "id": "b64265b5",
   "metadata": {},
   "outputs": [
    {
     "data": {
      "text/plain": [
       "3.584962500721156"
      ]
     },
     "execution_count": 12,
     "metadata": {},
     "output_type": "execute_result"
    }
   ],
   "source": [
    "math.log2(12)"
   ]
  },
  {
   "cell_type": "code",
   "execution_count": 13,
   "id": "8a0c24ed",
   "metadata": {},
   "outputs": [
    {
     "data": {
      "text/plain": [
       "3.700439718141092"
      ]
     },
     "execution_count": 13,
     "metadata": {},
     "output_type": "execute_result"
    }
   ],
   "source": [
    "math.log2(13)"
   ]
  },
  {
   "cell_type": "markdown",
   "id": "cfd4cf76",
   "metadata": {},
   "source": [
    "2^j = (L * 10^(1 - m)) * 10^k\n",
    "j * log10(2) = log10(L) + k * log10(10)\n",
    "\n",
    "m = number of digits in L\n",
    "k = j * log10(2)\n",
    "\n",
    "log10(2^j) = log10((L * 10^(1 - m)) * 10^k)\n",
    "j * log10(2) = log10(L) + log10(10^(1-m)) + log10(10^k)\n",
    "j * log10(2) = log10(L) + (1 - m)*log10"
   ]
  }
 ],
 "metadata": {
  "kernelspec": {
   "display_name": "Python 3 (ipykernel)",
   "language": "python",
   "name": "python3"
  },
  "language_info": {
   "codemirror_mode": {
    "name": "ipython",
    "version": 3
   },
   "file_extension": ".py",
   "mimetype": "text/x-python",
   "name": "python",
   "nbconvert_exporter": "python",
   "pygments_lexer": "ipython3",
   "version": "3.11.5"
  }
 },
 "nbformat": 4,
 "nbformat_minor": 5
}
